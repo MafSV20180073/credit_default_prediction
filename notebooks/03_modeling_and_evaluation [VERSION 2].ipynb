{
 "cells": [
  {
   "cell_type": "markdown",
   "id": "068b2068",
   "metadata": {},
   "source": [
    "## Predicting Default on Payments of Credit Card Clients"
   ]
  },
  {
   "cell_type": "markdown",
   "id": "2ab97b7a",
   "metadata": {},
   "source": [
    "# 3. Model Training & Model Evaluation"
   ]
  },
  {
   "cell_type": "markdown",
   "id": "11925f0f",
   "metadata": {},
   "source": [
    "The goal of this notebook is to train machine learning models to predict whether a credit card client will default in the following month and evaluate the performance of said models."
   ]
  },
  {
   "cell_type": "markdown",
   "id": "02f055de",
   "metadata": {},
   "source": [
    "### Imports"
   ]
  },
  {
   "cell_type": "code",
   "execution_count": 1,
   "id": "99f4f3e1",
   "metadata": {},
   "outputs": [],
   "source": [
    "import sys\n",
    "sys.path.append(\"../\")"
   ]
  },
  {
   "cell_type": "code",
   "execution_count": 38,
   "id": "92f5b21b",
   "metadata": {},
   "outputs": [],
   "source": [
    "import warnings\n",
    "\n",
    "import matplotlib.pyplot as plt\n",
    "import numpy as np\n",
    "import pandas as pd\n",
    "\n",
    "from lightgbm import LGBMClassifier\n",
    "from sklearn.calibration import CalibrationDisplay\n",
    "from sklearn.ensemble import AdaBoostClassifier, BaggingClassifier, ExtraTreesClassifier, GradientBoostingClassifier, HistGradientBoostingClassifier, RandomForestClassifier\n",
    "from sklearn.exceptions import UndefinedMetricWarning\n",
    "from sklearn.feature_selection import SelectFromModel, SelectKBest, f_classif, mutual_info_classif\n",
    "from sklearn.metrics import classification_report, f1_score, roc_curve, RocCurveDisplay, precision_recall_curve, PrecisionRecallDisplay, precision_score, recall_score\n",
    "from sklearn.neural_network import MLPClassifier\n",
    "from sklearn.svm import SVC\n",
    "\n",
    "from modeling.model_trainer import ModelTrainer\n",
    "from preprocessing.data_loader import download_data_from_kaggle\n",
    "from preprocessing.data_processor import DataProcessor\n",
    "from preprocessing.processing_steps import split_dataset\n",
    "\n",
    "warnings.filterwarnings(\"ignore\", category=UndefinedMetricWarning)"
   ]
  },
  {
   "cell_type": "markdown",
   "id": "7e0f58a0",
   "metadata": {},
   "source": [
    "### Loading the Data"
   ]
  },
  {
   "cell_type": "code",
   "execution_count": 6,
   "id": "4146d547",
   "metadata": {},
   "outputs": [
    {
     "name": "stdout",
     "output_type": "stream",
     "text": [
      "Training/test split created: 25500 training samples /4500 test samples.\n",
      "Training/validation split created: 21000 training samples /4500 val samples.\n"
     ]
    }
   ],
   "source": [
    "seed = 1\n",
    "random_state = np.random.RandomState(seed)\n",
    "\n",
    "df = download_data_from_kaggle()\n",
    "\n",
    "X, y = df.iloc[:, :-1], df.iloc[:, -1]\n",
    "    \n",
    "splits = split_dataset(\n",
    "    X=X,\n",
    "    y=y,\n",
    "    random_state=random_state,\n",
    "    shuffle=True,\n",
    "    stratify=True\n",
    ")\n",
    "\n",
    "data_processor = DataProcessor(\n",
    "    splits=splits,\n",
    "    data_from_kaggle=True\n",
    ")\n",
    "    \n",
    "# Deal with categorical variables:\n",
    "data_processor.treat_categorical_variables(drop_original_vars=True)\n",
    "\n",
    "cat_variables = [\"age\", \"pay_1\", \"pay_2\", \"pay_3\", \"pay_4\", \"pay_5\", \"pay_6\", \"is_male\", \"is_married\", \"is_single\",\n",
    "                \"graduate_school_education\", \"university_education\", \"high_school_education\"]\n",
    "# Note: IQR method was eliminating all negative bill amount statements, and according to the exploratory analysis \n",
    "# performed, the negative values contributes to separate defaulters and non-defaulters\n",
    "bill_variables = [\"bill_amt1\", \"bill_amt2\", \"bill_amt3\", \"bill_amt4\", \"bill_amt5\", \"bill_amt6\"]\n",
    "\n",
    "# Deal with outliers:\n",
    "data_processor.treat_outliers(\n",
    "    column_names=cat_variables + bill_variables,  \n",
    "    exclude_column_names=True,\n",
    "    verbose=False\n",
    ")\n",
    "    \n",
    "# Standardize data:\n",
    "data_processor.standardize_data(\n",
    "    column_names=[col for col in cat_variables if not col.startswith(\"pay_\")], \n",
    "    exclude_column_names=True\n",
    ")\n",
    "\n",
    "X_train, y_train, X_val, y_val, X_test, y_test = data_processor.get_datasets()"
   ]
  },
  {
   "cell_type": "code",
   "execution_count": 7,
   "id": "28b51374",
   "metadata": {},
   "outputs": [
    {
     "name": "stdout",
     "output_type": "stream",
     "text": [
      "There are 26 variables: ['limit_bal', 'age', 'pay_1', 'pay_2', 'pay_3', 'pay_4', 'pay_5', 'pay_6', 'bill_amt1', 'bill_amt2', 'bill_amt3', 'bill_amt4', 'bill_amt5', 'bill_amt6', 'pay_amt1', 'pay_amt2', 'pay_amt3', 'pay_amt4', 'pay_amt5', 'pay_amt6', 'is_male', 'is_married', 'is_single', 'graduate_school_education', 'university_education', 'high_school_education']\n"
     ]
    }
   ],
   "source": [
    "print(f\"There are {len(X_train.columns)} variables: {X_train.columns.tolist()}\")"
   ]
  },
  {
   "cell_type": "code",
   "execution_count": 9,
   "id": "8a8c7965",
   "metadata": {},
   "outputs": [
    {
     "name": "stdout",
     "output_type": "stream",
     "text": [
      "0.22\n",
      "0.22\n",
      "0.22\n"
     ]
    }
   ],
   "source": [
    "# Target distribution:\n",
    "print(round(y_train.sum() / len(y_train), 2))\n",
    "print(round(y_val.sum() / len(y_val), 2))\n",
    "print(round(y_test.sum() / len(y_test), 2))"
   ]
  },
  {
   "cell_type": "markdown",
   "id": "7cb8d59c",
   "metadata": {},
   "source": [
    "### Modeling - Initial Benchmark"
   ]
  },
  {
   "cell_type": "markdown",
   "id": "b0953b4e",
   "metadata": {},
   "source": [
    "To begin the analysis, a total of 7 different classifiers will be trained, and the best performing models will be selected as baseline models. The chosen classifiers are: AdaBoost (AB), Bagging (B), Support Vector Machine (SVM), Histogram-based Gradient Boosting Tree (HGB), Random Forest (RF), Multi-Layer Perceptron (MLP) and Light Gradient Boosting Machine (LGBM). These classifiers cover a diverse range of algorithms that have been proven to perform well in various machine learning tasks, and in particular with tabular datasets.\n",
    "\n",
    "In terms of evaluation metrics, given the significance of identifying clients at risk of default and considering the dataset's class imbalance, the primary optimization metric will be the f1-score. Additionally, other metrics will be calculated to provide a comprehensive support for decision-making. \n",
    "\n",
    "Regarding the data, at this initial stage the original variables will be used. Categorical variables were encoded using one-hot-encoding and the remaining variables were standardized by using MinMaxScaler. To address outliers, the interquartile range (IQR) method was employed.  "
   ]
  },
  {
   "cell_type": "code",
   "execution_count": 10,
   "id": "fcc58a1d",
   "metadata": {},
   "outputs": [],
   "source": [
    "models_trainer = ModelTrainer(X_train, y_train, X_val, y_val, X_test, y_test, seed)"
   ]
  },
  {
   "cell_type": "code",
   "execution_count": 11,
   "id": "860ee5f6",
   "metadata": {},
   "outputs": [
    {
     "name": "stdout",
     "output_type": "stream",
     "text": [
      "\t#### ADABOOST RESULTS ####\n",
      "Train scores:\n",
      "              precision    recall  f1-score   support\n",
      "\n",
      "           0       0.84      0.95      0.89     16354\n",
      "           1       0.68      0.34      0.46      4646\n",
      "\n",
      "    accuracy                           0.82     21000\n",
      "   macro avg       0.76      0.65      0.67     21000\n",
      "weighted avg       0.80      0.82      0.79     21000\n",
      "\n",
      "Val scores:\n",
      "              precision    recall  f1-score   support\n",
      "\n",
      "           0       0.84      0.95      0.89      3505\n",
      "           1       0.68      0.35      0.46       995\n",
      "\n",
      "    accuracy                           0.82      4500\n",
      "   macro avg       0.76      0.65      0.68      4500\n",
      "weighted avg       0.80      0.82      0.80      4500\n",
      "\n"
     ]
    },
    {
     "data": {
      "text/plain": [
       "{'val_f1_score': 0.46,\n",
       " 'val_recall_score': 0.35,\n",
       " 'val_precision_score': 0.68,\n",
       " 'val_balanced_accuracy_score': 0.65,\n",
       " 'train_f1_score': 0.46,\n",
       " 'train_recall_score': 0.34,\n",
       " 'train_precision_score': 0.68,\n",
       " 'train_balanced_accuracy_score': 0.65}"
      ]
     },
     "execution_count": 11,
     "metadata": {},
     "output_type": "execute_result"
    }
   ],
   "source": [
    "abc = AdaBoostClassifier(random_state=seed)\n",
    "\n",
    "models_trainer.train_classifier(classifier=abc, classifier_name=\"AdaBoost\")\n",
    "\n",
    "models_trainer.evaluate_classifier(classifier_name=\"AdaBoost\", store_results=True, print_classification_report=True)"
   ]
  },
  {
   "cell_type": "code",
   "execution_count": 12,
   "id": "b341aae6",
   "metadata": {},
   "outputs": [
    {
     "name": "stdout",
     "output_type": "stream",
     "text": [
      "\t#### BAGGING RESULTS ####\n",
      "Train scores:\n",
      "              precision    recall  f1-score   support\n",
      "\n",
      "           0       0.98      1.00      0.99     16354\n",
      "           1       0.99      0.91      0.95      4646\n",
      "\n",
      "    accuracy                           0.98     21000\n",
      "   macro avg       0.99      0.96      0.97     21000\n",
      "weighted avg       0.98      0.98      0.98     21000\n",
      "\n",
      "Val scores:\n",
      "              precision    recall  f1-score   support\n",
      "\n",
      "           0       0.83      0.93      0.88      3505\n",
      "           1       0.60      0.34      0.43       995\n",
      "\n",
      "    accuracy                           0.80      4500\n",
      "   macro avg       0.72      0.64      0.66      4500\n",
      "weighted avg       0.78      0.80      0.78      4500\n",
      "\n"
     ]
    },
    {
     "data": {
      "text/plain": [
       "{'val_f1_score': 0.43,\n",
       " 'val_recall_score': 0.34,\n",
       " 'val_precision_score': 0.6,\n",
       " 'val_balanced_accuracy_score': 0.64,\n",
       " 'train_f1_score': 0.95,\n",
       " 'train_recall_score': 0.91,\n",
       " 'train_precision_score': 0.99,\n",
       " 'train_balanced_accuracy_score': 0.96}"
      ]
     },
     "execution_count": 12,
     "metadata": {},
     "output_type": "execute_result"
    }
   ],
   "source": [
    "bc = BaggingClassifier(random_state=seed)\n",
    "\n",
    "models_trainer.train_classifier(classifier=bc, classifier_name=\"Bagging\",)\n",
    "\n",
    "models_trainer.evaluate_classifier(classifier_name=\"Bagging\", store_results=True, print_classification_report=True)"
   ]
  },
  {
   "cell_type": "code",
   "execution_count": 13,
   "id": "713eb899",
   "metadata": {},
   "outputs": [
    {
     "name": "stdout",
     "output_type": "stream",
     "text": [
      "\t#### HISTGRADIENTBOOSTING RESULTS ####\n",
      "Train scores:\n",
      "              precision    recall  f1-score   support\n",
      "\n",
      "           0       0.90      0.81      0.85     16354\n",
      "           1       0.50      0.68      0.58      4646\n",
      "\n",
      "    accuracy                           0.78     21000\n",
      "   macro avg       0.70      0.74      0.72     21000\n",
      "weighted avg       0.81      0.78      0.79     21000\n",
      "\n",
      "Val scores:\n",
      "              precision    recall  f1-score   support\n",
      "\n",
      "           0       0.89      0.80      0.84      3505\n",
      "           1       0.47      0.64      0.54       995\n",
      "\n",
      "    accuracy                           0.76      4500\n",
      "   macro avg       0.68      0.72      0.69      4500\n",
      "weighted avg       0.79      0.76      0.77      4500\n",
      "\n"
     ]
    },
    {
     "data": {
      "text/plain": [
       "{'val_f1_score': 0.54,\n",
       " 'val_recall_score': 0.64,\n",
       " 'val_precision_score': 0.47,\n",
       " 'val_balanced_accuracy_score': 0.72,\n",
       " 'train_f1_score': 0.58,\n",
       " 'train_recall_score': 0.68,\n",
       " 'train_precision_score': 0.5,\n",
       " 'train_balanced_accuracy_score': 0.74}"
      ]
     },
     "execution_count": 13,
     "metadata": {},
     "output_type": "execute_result"
    }
   ],
   "source": [
    "hgbc = HistGradientBoostingClassifier(max_depth=10, class_weight=\"balanced\", random_state=seed)\n",
    "\n",
    "models_trainer.train_classifier(classifier=hgbc,classifier_name=\"HistGradientBoosting\")\n",
    "\n",
    "models_trainer.evaluate_classifier(classifier_name=\"HistGradientBoosting\", store_results=True, print_classification_report=True)\n"
   ]
  },
  {
   "cell_type": "code",
   "execution_count": 14,
   "id": "04bab950",
   "metadata": {},
   "outputs": [
    {
     "name": "stdout",
     "output_type": "stream",
     "text": [
      "\t#### RANDOMFOREST RESULTS ####\n",
      "Train scores:\n",
      "              precision    recall  f1-score   support\n",
      "\n",
      "           0       0.89      0.85      0.87     16354\n",
      "           1       0.56      0.64      0.59      4646\n",
      "\n",
      "    accuracy                           0.81     21000\n",
      "   macro avg       0.72      0.75      0.73     21000\n",
      "weighted avg       0.82      0.81      0.81     21000\n",
      "\n",
      "Val scores:\n",
      "              precision    recall  f1-score   support\n",
      "\n",
      "           0       0.87      0.83      0.85      3505\n",
      "           1       0.49      0.57      0.53       995\n",
      "\n",
      "    accuracy                           0.78      4500\n",
      "   macro avg       0.68      0.70      0.69      4500\n",
      "weighted avg       0.79      0.78      0.78      4500\n",
      "\n"
     ]
    },
    {
     "data": {
      "text/plain": [
       "{'val_f1_score': 0.53,\n",
       " 'val_recall_score': 0.57,\n",
       " 'val_precision_score': 0.49,\n",
       " 'val_balanced_accuracy_score': 0.7,\n",
       " 'train_f1_score': 0.59,\n",
       " 'train_recall_score': 0.64,\n",
       " 'train_precision_score': 0.56,\n",
       " 'train_balanced_accuracy_score': 0.75}"
      ]
     },
     "execution_count": 14,
     "metadata": {},
     "output_type": "execute_result"
    }
   ],
   "source": [
    "rfc = RandomForestClassifier(max_depth=8, class_weight=\"balanced\", random_state=seed)\n",
    "\n",
    "models_trainer.train_classifier(classifier=rfc, classifier_name=\"RandomForest\", perform_feature_selection=False,)\n",
    "\n",
    "models_trainer.evaluate_classifier(classifier_name=\"RandomForest\", store_results=True, print_classification_report=True)"
   ]
  },
  {
   "cell_type": "code",
   "execution_count": 15,
   "id": "97c4c521",
   "metadata": {},
   "outputs": [
    {
     "name": "stdout",
     "output_type": "stream",
     "text": [
      "\t#### MLP RESULTS ####\n",
      "Train scores:\n",
      "              precision    recall  f1-score   support\n",
      "\n",
      "           0       0.84      0.95      0.89     16354\n",
      "           1       0.68      0.38      0.49      4646\n",
      "\n",
      "    accuracy                           0.82     21000\n",
      "   macro avg       0.76      0.67      0.69     21000\n",
      "weighted avg       0.81      0.82      0.80     21000\n",
      "\n",
      "Val scores:\n",
      "              precision    recall  f1-score   support\n",
      "\n",
      "           0       0.84      0.95      0.89      3505\n",
      "           1       0.66      0.37      0.47       995\n",
      "\n",
      "    accuracy                           0.82      4500\n",
      "   macro avg       0.75      0.66      0.68      4500\n",
      "weighted avg       0.80      0.82      0.80      4500\n",
      "\n"
     ]
    },
    {
     "data": {
      "text/plain": [
       "{'val_f1_score': 0.47,\n",
       " 'val_recall_score': 0.37,\n",
       " 'val_precision_score': 0.66,\n",
       " 'val_balanced_accuracy_score': 0.66,\n",
       " 'train_f1_score': 0.49,\n",
       " 'train_recall_score': 0.38,\n",
       " 'train_precision_score': 0.68,\n",
       " 'train_balanced_accuracy_score': 0.67}"
      ]
     },
     "execution_count": 15,
     "metadata": {},
     "output_type": "execute_result"
    }
   ],
   "source": [
    "mlp = MLPClassifier(\n",
    "    hidden_layer_sizes=(96,32),\n",
    "    max_iter=250,\n",
    "    shuffle=True,\n",
    "    early_stopping=True,\n",
    "    n_iter_no_change=10,\n",
    "    validation_fraction=0.2,\n",
    "    random_state=seed\n",
    ")\n",
    "\n",
    "models_trainer.train_classifier(\n",
    "    classifier=mlp,\n",
    "    classifier_name=\"MLP\"\n",
    ")\n",
    "\n",
    "models_trainer.evaluate_classifier(\n",
    "    classifier_name=\"MLP\",\n",
    "    store_results=True,\n",
    "    print_classification_report=True\n",
    ")"
   ]
  },
  {
   "cell_type": "code",
   "execution_count": 16,
   "id": "e2b63d94",
   "metadata": {},
   "outputs": [
    {
     "name": "stdout",
     "output_type": "stream",
     "text": [
      "\t#### SVM RESULTS ####\n",
      "Train scores:\n",
      "              precision    recall  f1-score   support\n",
      "\n",
      "           0       0.87      0.82      0.84     16354\n",
      "           1       0.47      0.57      0.52      4646\n",
      "\n",
      "    accuracy                           0.76     21000\n",
      "   macro avg       0.67      0.69      0.68     21000\n",
      "weighted avg       0.78      0.76      0.77     21000\n",
      "\n",
      "Val scores:\n",
      "              precision    recall  f1-score   support\n",
      "\n",
      "           0       0.87      0.81      0.84      3505\n",
      "           1       0.46      0.56      0.51       995\n",
      "\n",
      "    accuracy                           0.76      4500\n",
      "   macro avg       0.66      0.69      0.67      4500\n",
      "weighted avg       0.78      0.76      0.77      4500\n",
      "\n"
     ]
    },
    {
     "data": {
      "text/plain": [
       "{'val_f1_score': 0.51,\n",
       " 'val_recall_score': 0.56,\n",
       " 'val_precision_score': 0.46,\n",
       " 'val_balanced_accuracy_score': 0.69,\n",
       " 'train_f1_score': 0.52,\n",
       " 'train_recall_score': 0.57,\n",
       " 'train_precision_score': 0.47,\n",
       " 'train_balanced_accuracy_score': 0.69}"
      ]
     },
     "execution_count": 16,
     "metadata": {},
     "output_type": "execute_result"
    }
   ],
   "source": [
    "svc = SVC(class_weight=\"balanced\", random_state=seed)\n",
    "\n",
    "models_trainer.train_classifier(classifier=svc, classifier_name=\"SVM\")\n",
    "\n",
    "models_trainer.evaluate_classifier(classifier_name=\"SVM\", store_results=True, print_classification_report=True)"
   ]
  },
  {
   "cell_type": "code",
   "execution_count": 17,
   "id": "428e01d1",
   "metadata": {},
   "outputs": [
    {
     "name": "stdout",
     "output_type": "stream",
     "text": [
      "\t#### LGBM RESULTS ####\n",
      "Train scores:\n",
      "              precision    recall  f1-score   support\n",
      "\n",
      "           0       0.92      0.83      0.87     16354\n",
      "           1       0.55      0.75      0.64      4646\n",
      "\n",
      "    accuracy                           0.81     21000\n",
      "   macro avg       0.74      0.79      0.75     21000\n",
      "weighted avg       0.84      0.81      0.82     21000\n",
      "\n",
      "Val scores:\n",
      "              precision    recall  f1-score   support\n",
      "\n",
      "           0       0.88      0.79      0.83      3505\n",
      "           1       0.46      0.62      0.53       995\n",
      "\n",
      "    accuracy                           0.76      4500\n",
      "   macro avg       0.67      0.71      0.68      4500\n",
      "weighted avg       0.79      0.76      0.77      4500\n",
      "\n"
     ]
    },
    {
     "data": {
      "text/plain": [
       "{'val_f1_score': 0.53,\n",
       " 'val_recall_score': 0.62,\n",
       " 'val_precision_score': 0.46,\n",
       " 'val_balanced_accuracy_score': 0.71,\n",
       " 'train_f1_score': 0.64,\n",
       " 'train_recall_score': 0.75,\n",
       " 'train_precision_score': 0.55,\n",
       " 'train_balanced_accuracy_score': 0.79}"
      ]
     },
     "execution_count": 17,
     "metadata": {},
     "output_type": "execute_result"
    }
   ],
   "source": [
    "lgbm = LGBMClassifier(class_weight=\"balanced\", random_state=seed)\n",
    "\n",
    "models_trainer.train_classifier(classifier=lgbm, classifier_name=\"LGBM\")\n",
    "\n",
    "models_trainer.evaluate_classifier(classifier_name=\"LGBM\", store_results=True, print_classification_report=True)"
   ]
  },
  {
   "cell_type": "code",
   "execution_count": 18,
   "id": "d05192c7",
   "metadata": {},
   "outputs": [
    {
     "data": {
      "text/html": [
       "<div>\n",
       "<style scoped>\n",
       "    .dataframe tbody tr th:only-of-type {\n",
       "        vertical-align: middle;\n",
       "    }\n",
       "\n",
       "    .dataframe tbody tr th {\n",
       "        vertical-align: top;\n",
       "    }\n",
       "\n",
       "    .dataframe thead th {\n",
       "        text-align: right;\n",
       "    }\n",
       "</style>\n",
       "<table border=\"1\" class=\"dataframe\">\n",
       "  <thead>\n",
       "    <tr style=\"text-align: right;\">\n",
       "      <th></th>\n",
       "      <th>HistGradientBoosting</th>\n",
       "      <th>RandomForest</th>\n",
       "      <th>LGBM</th>\n",
       "      <th>SVM</th>\n",
       "      <th>MLP</th>\n",
       "      <th>AdaBoost</th>\n",
       "      <th>Bagging</th>\n",
       "    </tr>\n",
       "  </thead>\n",
       "  <tbody>\n",
       "    <tr>\n",
       "      <th>val_f1_score</th>\n",
       "      <td>0.54</td>\n",
       "      <td>0.53</td>\n",
       "      <td>0.53</td>\n",
       "      <td>0.51</td>\n",
       "      <td>0.47</td>\n",
       "      <td>0.46</td>\n",
       "      <td>0.43</td>\n",
       "    </tr>\n",
       "    <tr>\n",
       "      <th>val_recall_score</th>\n",
       "      <td>0.64</td>\n",
       "      <td>0.57</td>\n",
       "      <td>0.62</td>\n",
       "      <td>0.56</td>\n",
       "      <td>0.37</td>\n",
       "      <td>0.35</td>\n",
       "      <td>0.34</td>\n",
       "    </tr>\n",
       "    <tr>\n",
       "      <th>val_precision_score</th>\n",
       "      <td>0.47</td>\n",
       "      <td>0.49</td>\n",
       "      <td>0.46</td>\n",
       "      <td>0.46</td>\n",
       "      <td>0.66</td>\n",
       "      <td>0.68</td>\n",
       "      <td>0.60</td>\n",
       "    </tr>\n",
       "    <tr>\n",
       "      <th>val_balanced_accuracy_score</th>\n",
       "      <td>0.72</td>\n",
       "      <td>0.70</td>\n",
       "      <td>0.71</td>\n",
       "      <td>0.69</td>\n",
       "      <td>0.66</td>\n",
       "      <td>0.65</td>\n",
       "      <td>0.64</td>\n",
       "    </tr>\n",
       "    <tr>\n",
       "      <th>train_f1_score</th>\n",
       "      <td>0.58</td>\n",
       "      <td>0.59</td>\n",
       "      <td>0.64</td>\n",
       "      <td>0.52</td>\n",
       "      <td>0.49</td>\n",
       "      <td>0.46</td>\n",
       "      <td>0.95</td>\n",
       "    </tr>\n",
       "    <tr>\n",
       "      <th>train_recall_score</th>\n",
       "      <td>0.68</td>\n",
       "      <td>0.64</td>\n",
       "      <td>0.75</td>\n",
       "      <td>0.57</td>\n",
       "      <td>0.38</td>\n",
       "      <td>0.34</td>\n",
       "      <td>0.91</td>\n",
       "    </tr>\n",
       "    <tr>\n",
       "      <th>train_precision_score</th>\n",
       "      <td>0.50</td>\n",
       "      <td>0.56</td>\n",
       "      <td>0.55</td>\n",
       "      <td>0.47</td>\n",
       "      <td>0.68</td>\n",
       "      <td>0.68</td>\n",
       "      <td>0.99</td>\n",
       "    </tr>\n",
       "    <tr>\n",
       "      <th>train_balanced_accuracy_score</th>\n",
       "      <td>0.74</td>\n",
       "      <td>0.75</td>\n",
       "      <td>0.79</td>\n",
       "      <td>0.69</td>\n",
       "      <td>0.67</td>\n",
       "      <td>0.65</td>\n",
       "      <td>0.96</td>\n",
       "    </tr>\n",
       "  </tbody>\n",
       "</table>\n",
       "</div>"
      ],
      "text/plain": [
       "                               HistGradientBoosting  RandomForest  LGBM   SVM  \\\n",
       "val_f1_score                                   0.54          0.53  0.53  0.51   \n",
       "val_recall_score                               0.64          0.57  0.62  0.56   \n",
       "val_precision_score                            0.47          0.49  0.46  0.46   \n",
       "val_balanced_accuracy_score                    0.72          0.70  0.71  0.69   \n",
       "train_f1_score                                 0.58          0.59  0.64  0.52   \n",
       "train_recall_score                             0.68          0.64  0.75  0.57   \n",
       "train_precision_score                          0.50          0.56  0.55  0.47   \n",
       "train_balanced_accuracy_score                  0.74          0.75  0.79  0.69   \n",
       "\n",
       "                                MLP  AdaBoost  Bagging  \n",
       "val_f1_score                   0.47      0.46     0.43  \n",
       "val_recall_score               0.37      0.35     0.34  \n",
       "val_precision_score            0.66      0.68     0.60  \n",
       "val_balanced_accuracy_score    0.66      0.65     0.64  \n",
       "train_f1_score                 0.49      0.46     0.95  \n",
       "train_recall_score             0.38      0.34     0.91  \n",
       "train_precision_score          0.68      0.68     0.99  \n",
       "train_balanced_accuracy_score  0.67      0.65     0.96  "
      ]
     },
     "execution_count": 18,
     "metadata": {},
     "output_type": "execute_result"
    }
   ],
   "source": [
    "results = models_trainer.get_results_dict()\n",
    "df_results = pd.DataFrame.from_dict(results, orient=\"index\")\n",
    "df_results.sort_values(by=\"val_f1_score\", ascending=False).T"
   ]
  },
  {
   "cell_type": "markdown",
   "id": "15225eb2",
   "metadata": {},
   "source": [
    "The best performing model is Histogram-based Gradient Boosting Tree (HGB), with a validation f1-score of 0.54. Random forest (RF), support vector machine (SVM) and light GBM (LGBM) are next with a validation f1-score of 0.53 and 0.51. All four models have a validation precision score below 50%, and LGBM shows signs of overfitting. Another revelant aspect to notice is that the best performing models are the ones who have buint-in mechanisms to take into account the imbalance of the dataset (arg ```class_weight```).\n",
    "\n",
    "The models moving to the next phase are **HGB**, **RF**, **LGBM**, and **SVM**. Possible ways of improving these models are through the enhancement of the data (feature engineering, feature selection, fix the class imbalance), hyperparameter tuning and threshold moving.  \n",
    "\n",
    "<br>\n",
    "\n",
    "<div class=\"alert alert-block alert-info\">\n",
    "    <b>Current best f1-score:</b> 54%\n",
    "</div>"
   ]
  },
  {
   "cell_type": "markdown",
   "id": "1fc6e1e6",
   "metadata": {},
   "source": [
    "### Modeling - Adding Feature Engineering, Feature Selection and Oversampling"
   ]
  },
  {
   "cell_type": "markdown",
   "id": "2b7dba61",
   "metadata": {},
   "source": [
    "Write stuff. "
   ]
  },
  {
   "cell_type": "code",
   "execution_count": 19,
   "id": "96d17bf9",
   "metadata": {},
   "outputs": [
    {
     "name": "stdout",
     "output_type": "stream",
     "text": [
      "Training/test split created: 25500 training samples /4500 test samples.\n",
      "Training/validation split created: 21000 training samples /4500 val samples.\n"
     ]
    }
   ],
   "source": [
    "df = download_data_from_kaggle()\n",
    "\n",
    "X, y = df.iloc[:, :-1], df.iloc[:, -1]\n",
    "    \n",
    "splits = split_dataset(\n",
    "    X=X,\n",
    "    y=y,\n",
    "    random_state=random_state,\n",
    "    shuffle=True,\n",
    "    stratify=True\n",
    ")\n",
    "\n",
    "data_processor = DataProcessor(\n",
    "    splits=splits,\n",
    "    data_from_kaggle=True\n",
    ")\n",
    "    \n",
    "# Deal with categorical variables:\n",
    "data_processor.treat_categorical_variables(drop_original_vars=True)\n",
    "\n",
    "bill_amt_cols = [\"bill_amt1\", \"bill_amt2\", \"bill_amt3\", \"bill_amt4\", \"bill_amt5\", \"bill_amt6\"]\n",
    "pay_amt_cols = [\"pay_amt1\", \"pay_amt2\", \"pay_amt3\", \"pay_amt4\", \"pay_amt5\", \"pay_amt6\"]\n",
    "list_vars_to_drop = bill_amt_cols + pay_amt_cols\n",
    "\n",
    "# Perform feature engineering:\n",
    "data_processor.feature_engineering(\n",
    "    calculate_bill_to_limit_bal_ratio=True,\n",
    "    calculate_pay_to_bill_ratio=True,\n",
    "    calculate_num_negative_bill_statements=True,\n",
    "    calculate_payment_delays=True,\n",
    "    calculate_payment_change_rate=True,\n",
    "    calculate_bill_change_rate=True,\n",
    "    calculate_total_payment=True,\n",
    "    list_vars_to_drop=list_vars_to_drop\n",
    ")\n",
    "\n",
    "treat_outliers_cols = [\"limit_bal\", \"total_payment\", \"payment_delay_amt1\", \"payment_delay_amt2\", \"payment_delay_amt3\",\n",
    "                       \"payment_delay_amt4\", \"payment_delay_amt5\", \"payment_delay_amt6\"]\n",
    "# Deal with outliers:\n",
    "data_processor.treat_outliers(\n",
    "    column_names=treat_outliers_cols,\n",
    "    exclude_column_names=False,\n",
    "    verbose=False\n",
    ")\n",
    "\n",
    "cat_variables = [\"age\", \"is_male\", \"is_married\", \"is_single\", \"graduate_school_education\", \"university_education\", \n",
    "                 \"high_school_education\"]\n",
    "    \n",
    "# Standardize data:\n",
    "data_processor.standardize_data(\n",
    "    column_names=cat_variables, \n",
    "    exclude_column_names=True\n",
    ")\n",
    "\n",
    "X_train, y_train, X_val, y_val, X_test, y_test = data_processor.get_datasets()\n",
    "\n",
    "models_trainer.reload_data(X_train, y_train, X_val, y_val, X_test, y_test)"
   ]
  },
  {
   "cell_type": "code",
   "execution_count": 20,
   "id": "44d4e64b",
   "metadata": {},
   "outputs": [
    {
     "name": "stdout",
     "output_type": "stream",
     "text": [
      "\t#### HGB_FE RESULTS ####\n",
      "Train scores:\n",
      "              precision    recall  f1-score   support\n",
      "\n",
      "           0       0.91      0.82      0.86     16354\n",
      "           1       0.53      0.70      0.60      4646\n",
      "\n",
      "    accuracy                           0.79     21000\n",
      "   macro avg       0.72      0.76      0.73     21000\n",
      "weighted avg       0.82      0.79      0.80     21000\n",
      "\n",
      "Val scores:\n",
      "              precision    recall  f1-score   support\n",
      "\n",
      "           0       0.88      0.80      0.84      3505\n",
      "           1       0.47      0.62      0.54       995\n",
      "\n",
      "    accuracy                           0.76      4500\n",
      "   macro avg       0.68      0.71      0.69      4500\n",
      "weighted avg       0.79      0.76      0.77      4500\n",
      "\n"
     ]
    },
    {
     "data": {
      "text/plain": [
       "{'val_f1_score': 0.54,\n",
       " 'val_recall_score': 0.62,\n",
       " 'val_precision_score': 0.47,\n",
       " 'val_balanced_accuracy_score': 0.71,\n",
       " 'train_f1_score': 0.6,\n",
       " 'train_recall_score': 0.7,\n",
       " 'train_precision_score': 0.53,\n",
       " 'train_balanced_accuracy_score': 0.76}"
      ]
     },
     "execution_count": 20,
     "metadata": {},
     "output_type": "execute_result"
    }
   ],
   "source": [
    "hgbc = HistGradientBoostingClassifier(max_depth=10, class_weight=\"balanced\", random_state=seed)\n",
    "\n",
    "models_trainer.train_classifier(classifier=hgbc,classifier_name=\"HGB_fe\")\n",
    "models_trainer.evaluate_classifier(classifier_name=\"HGB_fe\", store_results=True, print_classification_report=True)"
   ]
  },
  {
   "cell_type": "code",
   "execution_count": 21,
   "id": "27f519f4",
   "metadata": {},
   "outputs": [
    {
     "name": "stdout",
     "output_type": "stream",
     "text": [
      "\t#### RF_FE RESULTS ####\n",
      "Train scores:\n",
      "              precision    recall  f1-score   support\n",
      "\n",
      "           0       0.89      0.86      0.88     16354\n",
      "           1       0.57      0.64      0.60      4646\n",
      "\n",
      "    accuracy                           0.81     21000\n",
      "   macro avg       0.73      0.75      0.74     21000\n",
      "weighted avg       0.82      0.81      0.82     21000\n",
      "\n",
      "Val scores:\n",
      "              precision    recall  f1-score   support\n",
      "\n",
      "           0       0.87      0.84      0.86      3505\n",
      "           1       0.51      0.57      0.54       995\n",
      "\n",
      "    accuracy                           0.78      4500\n",
      "   macro avg       0.69      0.71      0.70      4500\n",
      "weighted avg       0.79      0.78      0.79      4500\n",
      "\n"
     ]
    },
    {
     "data": {
      "text/plain": [
       "{'val_f1_score': 0.54,\n",
       " 'val_recall_score': 0.57,\n",
       " 'val_precision_score': 0.51,\n",
       " 'val_balanced_accuracy_score': 0.71,\n",
       " 'train_f1_score': 0.6,\n",
       " 'train_recall_score': 0.64,\n",
       " 'train_precision_score': 0.57,\n",
       " 'train_balanced_accuracy_score': 0.75}"
      ]
     },
     "execution_count": 21,
     "metadata": {},
     "output_type": "execute_result"
    }
   ],
   "source": [
    "rfc = RandomForestClassifier(max_depth=8, class_weight=\"balanced\", random_state=seed)\n",
    "\n",
    "models_trainer.train_classifier(classifier=rfc, classifier_name=\"RF_fe\")\n",
    "models_trainer.evaluate_classifier(classifier_name=\"RF_fe\", store_results=True, print_classification_report=True)"
   ]
  },
  {
   "cell_type": "code",
   "execution_count": 22,
   "id": "80604761",
   "metadata": {},
   "outputs": [
    {
     "name": "stdout",
     "output_type": "stream",
     "text": [
      "\t#### LGBM_FE RESULTS ####\n",
      "Train scores:\n",
      "              precision    recall  f1-score   support\n",
      "\n",
      "           0       0.93      0.84      0.89     16354\n",
      "           1       0.59      0.78      0.67      4646\n",
      "\n",
      "    accuracy                           0.83     21000\n",
      "   macro avg       0.76      0.81      0.78     21000\n",
      "weighted avg       0.86      0.83      0.84     21000\n",
      "\n",
      "Val scores:\n",
      "              precision    recall  f1-score   support\n",
      "\n",
      "           0       0.88      0.80      0.84      3505\n",
      "           1       0.47      0.62      0.54       995\n",
      "\n",
      "    accuracy                           0.76      4500\n",
      "   macro avg       0.68      0.71      0.69      4500\n",
      "weighted avg       0.79      0.76      0.77      4500\n",
      "\n"
     ]
    },
    {
     "data": {
      "text/plain": [
       "{'val_f1_score': 0.54,\n",
       " 'val_recall_score': 0.62,\n",
       " 'val_precision_score': 0.47,\n",
       " 'val_balanced_accuracy_score': 0.71,\n",
       " 'train_f1_score': 0.67,\n",
       " 'train_recall_score': 0.78,\n",
       " 'train_precision_score': 0.59,\n",
       " 'train_balanced_accuracy_score': 0.81}"
      ]
     },
     "execution_count": 22,
     "metadata": {},
     "output_type": "execute_result"
    }
   ],
   "source": [
    "lgbm = LGBMClassifier(class_weight=\"balanced\", random_state=seed)\n",
    "\n",
    "models_trainer.train_classifier(classifier=lgbm, classifier_name=\"LGBM_fe\")\n",
    "models_trainer.evaluate_classifier(classifier_name=\"LGBM_fe\", store_results=True, print_classification_report=True)"
   ]
  },
  {
   "cell_type": "code",
   "execution_count": 23,
   "id": "b2473f67",
   "metadata": {},
   "outputs": [
    {
     "name": "stdout",
     "output_type": "stream",
     "text": [
      "\t#### SVM_FE RESULTS ####\n",
      "Train scores:\n",
      "              precision    recall  f1-score   support\n",
      "\n",
      "           0       0.87      0.84      0.85     16354\n",
      "           1       0.50      0.55      0.52      4646\n",
      "\n",
      "    accuracy                           0.78     21000\n",
      "   macro avg       0.68      0.70      0.69     21000\n",
      "weighted avg       0.79      0.78      0.78     21000\n",
      "\n",
      "Val scores:\n",
      "              precision    recall  f1-score   support\n",
      "\n",
      "           0       0.87      0.83      0.85      3505\n",
      "           1       0.48      0.54      0.51       995\n",
      "\n",
      "    accuracy                           0.77      4500\n",
      "   macro avg       0.67      0.69      0.68      4500\n",
      "weighted avg       0.78      0.77      0.77      4500\n",
      "\n"
     ]
    },
    {
     "data": {
      "text/plain": [
       "{'val_f1_score': 0.51,\n",
       " 'val_recall_score': 0.54,\n",
       " 'val_precision_score': 0.48,\n",
       " 'val_balanced_accuracy_score': 0.69,\n",
       " 'train_f1_score': 0.52,\n",
       " 'train_recall_score': 0.55,\n",
       " 'train_precision_score': 0.5,\n",
       " 'train_balanced_accuracy_score': 0.7}"
      ]
     },
     "execution_count": 23,
     "metadata": {},
     "output_type": "execute_result"
    }
   ],
   "source": [
    "svc = SVC(class_weight=\"balanced\", random_state=seed)\n",
    "\n",
    "models_trainer.train_classifier(classifier=svc, classifier_name=\"SVM_fe\")\n",
    "models_trainer.evaluate_classifier(classifier_name=\"SVM_fe\", store_results=True, print_classification_report=True)"
   ]
  },
  {
   "cell_type": "code",
   "execution_count": 24,
   "id": "8398e19f",
   "metadata": {},
   "outputs": [
    {
     "data": {
      "text/html": [
       "<div>\n",
       "<style scoped>\n",
       "    .dataframe tbody tr th:only-of-type {\n",
       "        vertical-align: middle;\n",
       "    }\n",
       "\n",
       "    .dataframe tbody tr th {\n",
       "        vertical-align: top;\n",
       "    }\n",
       "\n",
       "    .dataframe thead th {\n",
       "        text-align: right;\n",
       "    }\n",
       "</style>\n",
       "<table border=\"1\" class=\"dataframe\">\n",
       "  <thead>\n",
       "    <tr style=\"text-align: right;\">\n",
       "      <th></th>\n",
       "      <th>HistGradientBoosting</th>\n",
       "      <th>HGB_fe</th>\n",
       "      <th>RF_fe</th>\n",
       "      <th>LGBM_fe</th>\n",
       "      <th>RandomForest</th>\n",
       "      <th>LGBM</th>\n",
       "      <th>SVM</th>\n",
       "      <th>SVM_fe</th>\n",
       "      <th>MLP</th>\n",
       "      <th>AdaBoost</th>\n",
       "      <th>Bagging</th>\n",
       "    </tr>\n",
       "  </thead>\n",
       "  <tbody>\n",
       "    <tr>\n",
       "      <th>val_f1_score</th>\n",
       "      <td>0.54</td>\n",
       "      <td>0.54</td>\n",
       "      <td>0.54</td>\n",
       "      <td>0.54</td>\n",
       "      <td>0.53</td>\n",
       "      <td>0.53</td>\n",
       "      <td>0.51</td>\n",
       "      <td>0.51</td>\n",
       "      <td>0.47</td>\n",
       "      <td>0.46</td>\n",
       "      <td>0.43</td>\n",
       "    </tr>\n",
       "    <tr>\n",
       "      <th>val_recall_score</th>\n",
       "      <td>0.64</td>\n",
       "      <td>0.62</td>\n",
       "      <td>0.57</td>\n",
       "      <td>0.62</td>\n",
       "      <td>0.57</td>\n",
       "      <td>0.62</td>\n",
       "      <td>0.56</td>\n",
       "      <td>0.54</td>\n",
       "      <td>0.37</td>\n",
       "      <td>0.35</td>\n",
       "      <td>0.34</td>\n",
       "    </tr>\n",
       "    <tr>\n",
       "      <th>val_precision_score</th>\n",
       "      <td>0.47</td>\n",
       "      <td>0.47</td>\n",
       "      <td>0.51</td>\n",
       "      <td>0.47</td>\n",
       "      <td>0.49</td>\n",
       "      <td>0.46</td>\n",
       "      <td>0.46</td>\n",
       "      <td>0.48</td>\n",
       "      <td>0.66</td>\n",
       "      <td>0.68</td>\n",
       "      <td>0.60</td>\n",
       "    </tr>\n",
       "    <tr>\n",
       "      <th>val_balanced_accuracy_score</th>\n",
       "      <td>0.72</td>\n",
       "      <td>0.71</td>\n",
       "      <td>0.71</td>\n",
       "      <td>0.71</td>\n",
       "      <td>0.70</td>\n",
       "      <td>0.71</td>\n",
       "      <td>0.69</td>\n",
       "      <td>0.69</td>\n",
       "      <td>0.66</td>\n",
       "      <td>0.65</td>\n",
       "      <td>0.64</td>\n",
       "    </tr>\n",
       "    <tr>\n",
       "      <th>train_f1_score</th>\n",
       "      <td>0.58</td>\n",
       "      <td>0.60</td>\n",
       "      <td>0.60</td>\n",
       "      <td>0.67</td>\n",
       "      <td>0.59</td>\n",
       "      <td>0.64</td>\n",
       "      <td>0.52</td>\n",
       "      <td>0.52</td>\n",
       "      <td>0.49</td>\n",
       "      <td>0.46</td>\n",
       "      <td>0.95</td>\n",
       "    </tr>\n",
       "    <tr>\n",
       "      <th>train_recall_score</th>\n",
       "      <td>0.68</td>\n",
       "      <td>0.70</td>\n",
       "      <td>0.64</td>\n",
       "      <td>0.78</td>\n",
       "      <td>0.64</td>\n",
       "      <td>0.75</td>\n",
       "      <td>0.57</td>\n",
       "      <td>0.55</td>\n",
       "      <td>0.38</td>\n",
       "      <td>0.34</td>\n",
       "      <td>0.91</td>\n",
       "    </tr>\n",
       "    <tr>\n",
       "      <th>train_precision_score</th>\n",
       "      <td>0.50</td>\n",
       "      <td>0.53</td>\n",
       "      <td>0.57</td>\n",
       "      <td>0.59</td>\n",
       "      <td>0.56</td>\n",
       "      <td>0.55</td>\n",
       "      <td>0.47</td>\n",
       "      <td>0.50</td>\n",
       "      <td>0.68</td>\n",
       "      <td>0.68</td>\n",
       "      <td>0.99</td>\n",
       "    </tr>\n",
       "    <tr>\n",
       "      <th>train_balanced_accuracy_score</th>\n",
       "      <td>0.74</td>\n",
       "      <td>0.76</td>\n",
       "      <td>0.75</td>\n",
       "      <td>0.81</td>\n",
       "      <td>0.75</td>\n",
       "      <td>0.79</td>\n",
       "      <td>0.69</td>\n",
       "      <td>0.70</td>\n",
       "      <td>0.67</td>\n",
       "      <td>0.65</td>\n",
       "      <td>0.96</td>\n",
       "    </tr>\n",
       "  </tbody>\n",
       "</table>\n",
       "</div>"
      ],
      "text/plain": [
       "                               HistGradientBoosting  HGB_fe  RF_fe  LGBM_fe  \\\n",
       "val_f1_score                                   0.54    0.54   0.54     0.54   \n",
       "val_recall_score                               0.64    0.62   0.57     0.62   \n",
       "val_precision_score                            0.47    0.47   0.51     0.47   \n",
       "val_balanced_accuracy_score                    0.72    0.71   0.71     0.71   \n",
       "train_f1_score                                 0.58    0.60   0.60     0.67   \n",
       "train_recall_score                             0.68    0.70   0.64     0.78   \n",
       "train_precision_score                          0.50    0.53   0.57     0.59   \n",
       "train_balanced_accuracy_score                  0.74    0.76   0.75     0.81   \n",
       "\n",
       "                               RandomForest  LGBM   SVM  SVM_fe   MLP  \\\n",
       "val_f1_score                           0.53  0.53  0.51    0.51  0.47   \n",
       "val_recall_score                       0.57  0.62  0.56    0.54  0.37   \n",
       "val_precision_score                    0.49  0.46  0.46    0.48  0.66   \n",
       "val_balanced_accuracy_score            0.70  0.71  0.69    0.69  0.66   \n",
       "train_f1_score                         0.59  0.64  0.52    0.52  0.49   \n",
       "train_recall_score                     0.64  0.75  0.57    0.55  0.38   \n",
       "train_precision_score                  0.56  0.55  0.47    0.50  0.68   \n",
       "train_balanced_accuracy_score          0.75  0.79  0.69    0.70  0.67   \n",
       "\n",
       "                               AdaBoost  Bagging  \n",
       "val_f1_score                       0.46     0.43  \n",
       "val_recall_score                   0.35     0.34  \n",
       "val_precision_score                0.68     0.60  \n",
       "val_balanced_accuracy_score        0.65     0.64  \n",
       "train_f1_score                     0.46     0.95  \n",
       "train_recall_score                 0.34     0.91  \n",
       "train_precision_score              0.68     0.99  \n",
       "train_balanced_accuracy_score      0.65     0.96  "
      ]
     },
     "execution_count": 24,
     "metadata": {},
     "output_type": "execute_result"
    }
   ],
   "source": [
    "results = models_trainer.get_results_dict()\n",
    "df_results = pd.DataFrame.from_dict(results, orient=\"index\")\n",
    "df_results.sort_values(by=\"val_f1_score\", ascending=False).T"
   ]
  },
  {
   "cell_type": "markdown",
   "id": "544f9988",
   "metadata": {},
   "source": [
    "Surprinsingly, feature engineering hasn't improve the models results. In some cases, such as HGB or LGBM, the validation f1-score decrease 1 or 2 points. RF has seen its overfitting got worse, as well as HGB. One potential cause can be the presence of redundant features. In order to tackle that, let's proceed with retraining some models with feature selection.  "
   ]
  },
  {
   "cell_type": "code",
   "execution_count": 25,
   "id": "87d9f48f",
   "metadata": {},
   "outputs": [
    {
     "name": "stdout",
     "output_type": "stream",
     "text": [
      "Feature selection result:\n",
      " ['limit_bal' 'pay_1' 'pay_2' 'pay_3' 'pay_4' 'pay_5' 'pay_6'\n",
      " 'bill_amt1_limit_bal_ratio' 'bill_amt2_limit_bal_ratio'\n",
      " 'bill_amt3_limit_bal_ratio' 'bill_amt4_limit_bal_ratio'\n",
      " 'bill_amt5_limit_bal_ratio' 'bill_amt6_limit_bal_ratio'\n",
      " 'pay_amt1_bill_amt1_ratio' 'pay_amt2_bill_amt2_ratio'\n",
      " 'pay_amt3_bill_amt3_ratio' 'pay_amt5_bill_amt5_ratio'\n",
      " 'pay_amt6_bill_amt6_ratio' 'payment_change_rate_amt1_amt2'\n",
      " 'payment_change_rate_amt2_amt3' 'bill_change_rate_amt1_amt2'\n",
      " 'bill_change_rate_amt2_amt3' 'bill_change_rate_amt3_amt4'\n",
      " 'bill_change_rate_amt5_amt6' 'total_payment']\n",
      "\t#### HGB_FE_FS RESULTS ####\n",
      "Train scores:\n",
      "              precision    recall  f1-score   support\n",
      "\n",
      "           0       0.90      0.82      0.86     16354\n",
      "           1       0.52      0.69      0.59      4646\n",
      "\n",
      "    accuracy                           0.79     21000\n",
      "   macro avg       0.71      0.76      0.73     21000\n",
      "weighted avg       0.82      0.79      0.80     21000\n",
      "\n",
      "Val scores:\n",
      "              precision    recall  f1-score   support\n",
      "\n",
      "           0       0.88      0.80      0.84      3505\n",
      "           1       0.47      0.63      0.54       995\n",
      "\n",
      "    accuracy                           0.76      4500\n",
      "   macro avg       0.68      0.72      0.69      4500\n",
      "weighted avg       0.79      0.76      0.77      4500\n",
      "\n"
     ]
    },
    {
     "data": {
      "text/plain": [
       "{'val_f1_score': 0.54,\n",
       " 'val_recall_score': 0.63,\n",
       " 'val_precision_score': 0.47,\n",
       " 'val_balanced_accuracy_score': 0.72,\n",
       " 'train_f1_score': 0.59,\n",
       " 'train_recall_score': 0.69,\n",
       " 'train_precision_score': 0.52,\n",
       " 'train_balanced_accuracy_score': 0.76}"
      ]
     },
     "execution_count": 25,
     "metadata": {},
     "output_type": "execute_result"
    }
   ],
   "source": [
    "hgbc = HistGradientBoostingClassifier(max_depth=10, class_weight=\"balanced\", random_state=seed)\n",
    "\n",
    "models_trainer.train_classifier(\n",
    "    classifier=hgbc,classifier_name=\"HGB_fe_fs\", \n",
    "    perform_feature_selection=True,\n",
    "    feature_selection_algorithm=\"mutual_info_classif\",\n",
    "    num_features=25,\n",
    ")\n",
    "models_trainer.evaluate_classifier(classifier_name=\"HGB_fe_fs\", store_results=True, print_classification_report=True)"
   ]
  },
  {
   "cell_type": "markdown",
   "id": "d923152b",
   "metadata": {},
   "source": [
    "This quick experiment shows that the *k* highest scores are concentrated in highly similar variables. In an attempt to remove potential redundancy in the data, let's run one experiment without feature engineering and another with a \"manual\" selection of variables. The variables under consideration will include both the original set and the engineered ones."
   ]
  },
  {
   "cell_type": "code",
   "execution_count": 26,
   "id": "fa2070fd",
   "metadata": {},
   "outputs": [
    {
     "name": "stdout",
     "output_type": "stream",
     "text": [
      "Training/test split created: 25500 training samples /4500 test samples.\n",
      "Training/validation split created: 21000 training samples /4500 val samples.\n"
     ]
    }
   ],
   "source": [
    "df = download_data_from_kaggle()\n",
    "\n",
    "X, y = df.iloc[:, :-1], df.iloc[:, -1]\n",
    "    \n",
    "splits = split_dataset(\n",
    "    X=X,\n",
    "    y=y,\n",
    "    random_state=random_state,\n",
    "    shuffle=True,\n",
    "    stratify=True\n",
    ")\n",
    "\n",
    "data_processor = DataProcessor(\n",
    "    splits=splits,\n",
    "    data_from_kaggle=True\n",
    ")\n",
    "    \n",
    "# Deal with categorical variables:\n",
    "data_processor.treat_categorical_variables(drop_original_vars=True)\n",
    "\n",
    "cat_variables = [\"age\", \"pay_1\", \"pay_2\", \"pay_3\", \"pay_4\", \"pay_5\", \"pay_6\", \"is_male\", \"is_married\", \"is_single\",\n",
    "                \"graduate_school_education\", \"university_education\", \"high_school_education\"]\n",
    "# Note: IQR method was eliminating all negative bill amount statements, and according to the exploratory analysis \n",
    "# performed, the negative values contributes to separate defaulters and non-defaulters\n",
    "bill_variables = [\"bill_amt1\", \"bill_amt2\", \"bill_amt3\", \"bill_amt4\", \"bill_amt5\", \"bill_amt6\"]\n",
    "\n",
    "# Deal with outliers:\n",
    "data_processor.treat_outliers(\n",
    "    column_names=cat_variables + bill_variables,  \n",
    "    exclude_column_names=True,\n",
    "    verbose=False\n",
    ")\n",
    "\n",
    "cat_variables = [\"age\", \"is_male\", \"is_married\", \"is_single\", \"graduate_school_education\", \"university_education\", \n",
    "                 \"high_school_education\"]\n",
    "    \n",
    "# Standardize data:\n",
    "data_processor.standardize_data(\n",
    "    column_names=cat_variables, \n",
    "    exclude_column_names=True\n",
    ")\n",
    "    \n",
    "X_train, y_train, X_val, y_val, X_test, y_test = data_processor.get_datasets()\n",
    "models_trainer.reload_data(X_train, y_train, X_val, y_val, X_test, y_test)"
   ]
  },
  {
   "cell_type": "code",
   "execution_count": 27,
   "id": "7b42886f",
   "metadata": {},
   "outputs": [
    {
     "name": "stdout",
     "output_type": "stream",
     "text": [
      "Feature selection result:\n",
      " ['limit_bal' 'pay_1' 'pay_2' 'pay_3' 'pay_4' 'pay_5' 'pay_6' 'bill_amt1'\n",
      " 'bill_amt5' 'pay_amt1' 'pay_amt2' 'pay_amt3' 'pay_amt4' 'pay_amt5'\n",
      " 'pay_amt6']\n"
     ]
    }
   ],
   "source": [
    "feature_selector = SelectKBest(mutual_info_classif, k=15).fit(X_train, y_train)\n",
    "print(\"Feature selection result:\\n\", feature_selector.get_feature_names_out())\n",
    "\n",
    "models_trainer.reload_data(\n",
    "    X_train[feature_selector.get_feature_names_out()], \n",
    "    y_train, \n",
    "    X_val[feature_selector.get_feature_names_out()], \n",
    "    y_val, \n",
    "    X_test[feature_selector.get_feature_names_out()], \n",
    "    y_test\n",
    ")"
   ]
  },
  {
   "cell_type": "code",
   "execution_count": 28,
   "id": "55d27088",
   "metadata": {},
   "outputs": [
    {
     "name": "stdout",
     "output_type": "stream",
     "text": [
      "\t#### HGB_FS_15 RESULTS ####\n",
      "Train scores:\n",
      "              precision    recall  f1-score   support\n",
      "\n",
      "           0       0.91      0.82      0.86     16354\n",
      "           1       0.52      0.70      0.60      4646\n",
      "\n",
      "    accuracy                           0.79     21000\n",
      "   macro avg       0.71      0.76      0.73     21000\n",
      "weighted avg       0.82      0.79      0.80     21000\n",
      "\n",
      "Val scores:\n",
      "              precision    recall  f1-score   support\n",
      "\n",
      "           0       0.88      0.79      0.84      3505\n",
      "           1       0.46      0.63      0.53       995\n",
      "\n",
      "    accuracy                           0.76      4500\n",
      "   macro avg       0.67      0.71      0.69      4500\n",
      "weighted avg       0.79      0.76      0.77      4500\n",
      "\n"
     ]
    },
    {
     "data": {
      "text/plain": [
       "{'val_f1_score': 0.53,\n",
       " 'val_recall_score': 0.63,\n",
       " 'val_precision_score': 0.46,\n",
       " 'val_balanced_accuracy_score': 0.71,\n",
       " 'train_f1_score': 0.6,\n",
       " 'train_recall_score': 0.7,\n",
       " 'train_precision_score': 0.52,\n",
       " 'train_balanced_accuracy_score': 0.76}"
      ]
     },
     "execution_count": 28,
     "metadata": {},
     "output_type": "execute_result"
    }
   ],
   "source": [
    "hgbc = HistGradientBoostingClassifier(max_depth=10, class_weight=\"balanced\", random_state=seed)\n",
    "\n",
    "models_trainer.train_classifier(\n",
    "    classifier=hgbc,classifier_name=\"HGB_fs_15\", \n",
    ")\n",
    "models_trainer.evaluate_classifier(classifier_name=\"HGB_fs_15\", store_results=True, print_classification_report=True)"
   ]
  },
  {
   "cell_type": "code",
   "execution_count": 29,
   "id": "160a28d6",
   "metadata": {},
   "outputs": [
    {
     "name": "stdout",
     "output_type": "stream",
     "text": [
      "\t#### SVM_FS_15 RESULTS ####\n",
      "Train scores:\n",
      "              precision    recall  f1-score   support\n",
      "\n",
      "           0       0.89      0.82      0.85     16354\n",
      "           1       0.50      0.62      0.56      4646\n",
      "\n",
      "    accuracy                           0.78     21000\n",
      "   macro avg       0.69      0.72      0.71     21000\n",
      "weighted avg       0.80      0.78      0.79     21000\n",
      "\n",
      "Val scores:\n",
      "              precision    recall  f1-score   support\n",
      "\n",
      "           0       0.87      0.81      0.84      3505\n",
      "           1       0.47      0.59      0.52       995\n",
      "\n",
      "    accuracy                           0.76      4500\n",
      "   macro avg       0.67      0.70      0.68      4500\n",
      "weighted avg       0.79      0.76      0.77      4500\n",
      "\n"
     ]
    },
    {
     "data": {
      "text/plain": [
       "{'val_f1_score': 0.52,\n",
       " 'val_recall_score': 0.59,\n",
       " 'val_precision_score': 0.47,\n",
       " 'val_balanced_accuracy_score': 0.7,\n",
       " 'train_f1_score': 0.56,\n",
       " 'train_recall_score': 0.62,\n",
       " 'train_precision_score': 0.5,\n",
       " 'train_balanced_accuracy_score': 0.72}"
      ]
     },
     "execution_count": 29,
     "metadata": {},
     "output_type": "execute_result"
    }
   ],
   "source": [
    "svc = SVC(class_weight=\"balanced\", random_state=seed)\n",
    "\n",
    "models_trainer.train_classifier(classifier=svc, classifier_name=\"SVM_fs_15\")\n",
    "models_trainer.evaluate_classifier(classifier_name=\"SVM_fs_15\", store_results=True, print_classification_report=True)"
   ]
  },
  {
   "cell_type": "code",
   "execution_count": 272,
   "id": "9a1debcc",
   "metadata": {},
   "outputs": [
    {
     "name": "stdout",
     "output_type": "stream",
     "text": [
      "Training/test split created: 25500 training samples /4500 test samples.\n",
      "Training/validation split created: 21000 training samples /4500 val samples.\n"
     ]
    }
   ],
   "source": [
    "df = download_data_from_kaggle()\n",
    "\n",
    "X, y = df.iloc[:, :-1], df.iloc[:, -1]\n",
    "    \n",
    "splits = split_dataset(\n",
    "    X=X,\n",
    "    y=y,\n",
    "    random_state=random_state,\n",
    "    shuffle=True,\n",
    "    stratify=True\n",
    ")\n",
    "\n",
    "data_processor = DataProcessor(\n",
    "    splits=splits,\n",
    "    data_from_kaggle=True\n",
    ")\n",
    "    \n",
    "# Deal with categorical variables:\n",
    "data_processor.treat_categorical_variables(drop_original_vars=True)\n",
    "\n",
    "# Perform feature engineering:\n",
    "data_processor.feature_engineering(\n",
    "    calculate_bill_to_limit_bal_ratio=True,\n",
    "    calculate_pay_to_bill_ratio=True,\n",
    "    calculate_num_negative_bill_statements=True,\n",
    "    calculate_payment_delays=True,\n",
    "    calculate_payment_change_rate=True,\n",
    "    calculate_bill_change_rate=True,\n",
    "    calculate_total_payment=True,\n",
    "    list_vars_to_drop=None\n",
    ")\n",
    "\n",
    "treat_outliers_cols = [\"limit_bal\", \"total_payment\", \"payment_delay_amt1\", \"payment_delay_amt2\", \"payment_delay_amt3\",\n",
    "                       \"payment_delay_amt4\", \"payment_delay_amt5\", \"payment_delay_amt6\"]\n",
    "# Deal with outliers:\n",
    "data_processor.treat_outliers(\n",
    "    column_names=treat_outliers_cols,\n",
    "    exclude_column_names=False,\n",
    "    verbose=False\n",
    ")\n",
    "\n",
    "cat_variables = [\"age\", \"is_male\", \"is_married\", \"is_single\", \"graduate_school_education\", \"university_education\", \n",
    "                 \"high_school_education\"]\n",
    "    \n",
    "# Standardize data:\n",
    "data_processor.standardize_data(\n",
    "    column_names=cat_variables, \n",
    "    exclude_column_names=True\n",
    ")\n",
    "\n",
    "X_train, y_train, X_val, y_val, X_test, y_test = data_processor.get_datasets()\n",
    "\n",
    "models_trainer.reload_data(X_train, y_train, X_val, y_val, X_test, y_test)"
   ]
  },
  {
   "cell_type": "code",
   "execution_count": 273,
   "id": "4212903e",
   "metadata": {},
   "outputs": [],
   "source": [
    "manual_selection = ['limit_bal', 'pay_1', 'pay_2', 'pay_3', 'pay_4', 'pay_5',\n",
    "                    'pay_6', 'bill_amt1', 'bill_amt2', 'bill_amt4',\n",
    "                    'pay_amt1', 'pay_amt2', 'pay_amt3', 'num_overpays', 'total_payment',\n",
    "                    'payment_delay_amt1', 'payment_delay_amt2']\n",
    "\n",
    "models_trainer.reload_data(\n",
    "    X_train[manual_selection], \n",
    "    y_train, \n",
    "    X_val[manual_selection], \n",
    "    y_val, \n",
    "    X_test[manual_selection], \n",
    "    y_test\n",
    ")"
   ]
  },
  {
   "cell_type": "code",
   "execution_count": 45,
   "id": "a01015a6",
   "metadata": {},
   "outputs": [
    {
     "name": "stdout",
     "output_type": "stream",
     "text": [
      "\t#### HGB_FE_FS_MANUAL RESULTS ####\n",
      "Train scores:\n",
      "              precision    recall  f1-score   support\n",
      "\n",
      "           0       0.90      0.81      0.85     16354\n",
      "           1       0.51      0.69      0.59      4646\n",
      "\n",
      "    accuracy                           0.78     21000\n",
      "   macro avg       0.71      0.75      0.72     21000\n",
      "weighted avg       0.81      0.78      0.80     21000\n",
      "\n",
      "Val scores:\n",
      "              precision    recall  f1-score   support\n",
      "\n",
      "           0       0.88      0.81      0.85      3505\n",
      "           1       0.48      0.62      0.54       995\n",
      "\n",
      "    accuracy                           0.77      4500\n",
      "   macro avg       0.68      0.72      0.70      4500\n",
      "weighted avg       0.79      0.77      0.78      4500\n",
      "\n"
     ]
    },
    {
     "data": {
      "text/plain": [
       "{'val_f1_score': 0.54,\n",
       " 'val_recall_score': 0.62,\n",
       " 'val_precision_score': 0.48,\n",
       " 'val_balanced_accuracy_score': 0.72,\n",
       " 'train_f1_score': 0.59,\n",
       " 'train_recall_score': 0.69,\n",
       " 'train_precision_score': 0.51,\n",
       " 'train_balanced_accuracy_score': 0.75}"
      ]
     },
     "execution_count": 45,
     "metadata": {},
     "output_type": "execute_result"
    }
   ],
   "source": [
    "hgbc = HistGradientBoostingClassifier(max_depth=10, class_weight=\"balanced\", random_state=seed)\n",
    "\n",
    "models_trainer.train_classifier(\n",
    "    classifier=hgbc,classifier_name=\"HGB_fe_fs_manual\", \n",
    ")\n",
    "models_trainer.evaluate_classifier(classifier_name=\"HGB_fe_fs_manual\", store_results=True, print_classification_report=True)"
   ]
  },
  {
   "cell_type": "code",
   "execution_count": 46,
   "id": "77250eeb",
   "metadata": {},
   "outputs": [
    {
     "name": "stdout",
     "output_type": "stream",
     "text": [
      "\t#### SVM_FE_FS_MANUAL RESULTS ####\n",
      "Train scores:\n",
      "              precision    recall  f1-score   support\n",
      "\n",
      "           0       0.88      0.83      0.86     16354\n",
      "           1       0.51      0.60      0.55      4646\n",
      "\n",
      "    accuracy                           0.78     21000\n",
      "   macro avg       0.69      0.72      0.70     21000\n",
      "weighted avg       0.80      0.78      0.79     21000\n",
      "\n",
      "Val scores:\n",
      "              precision    recall  f1-score   support\n",
      "\n",
      "           0       0.87      0.84      0.86      3505\n",
      "           1       0.50      0.57      0.53       995\n",
      "\n",
      "    accuracy                           0.78      4500\n",
      "   macro avg       0.69      0.70      0.70      4500\n",
      "weighted avg       0.79      0.78      0.78      4500\n",
      "\n"
     ]
    },
    {
     "data": {
      "text/plain": [
       "{'val_f1_score': 0.53,\n",
       " 'val_recall_score': 0.57,\n",
       " 'val_precision_score': 0.5,\n",
       " 'val_balanced_accuracy_score': 0.7,\n",
       " 'train_f1_score': 0.55,\n",
       " 'train_recall_score': 0.6,\n",
       " 'train_precision_score': 0.51,\n",
       " 'train_balanced_accuracy_score': 0.72}"
      ]
     },
     "execution_count": 46,
     "metadata": {},
     "output_type": "execute_result"
    }
   ],
   "source": [
    "svc = SVC(class_weight=\"balanced\", random_state=seed)\n",
    "\n",
    "models_trainer.train_classifier(classifier=svc, classifier_name=\"SVM_fe_fs_manual\")\n",
    "models_trainer.evaluate_classifier(classifier_name=\"SVM_fe_fs_manual\", store_results=True, print_classification_report=True)"
   ]
  },
  {
   "cell_type": "code",
   "execution_count": 47,
   "id": "9bdc24b4",
   "metadata": {},
   "outputs": [
    {
     "data": {
      "text/html": [
       "<div>\n",
       "<style scoped>\n",
       "    .dataframe tbody tr th:only-of-type {\n",
       "        vertical-align: middle;\n",
       "    }\n",
       "\n",
       "    .dataframe tbody tr th {\n",
       "        vertical-align: top;\n",
       "    }\n",
       "\n",
       "    .dataframe thead th {\n",
       "        text-align: right;\n",
       "    }\n",
       "</style>\n",
       "<table border=\"1\" class=\"dataframe\">\n",
       "  <thead>\n",
       "    <tr style=\"text-align: right;\">\n",
       "      <th></th>\n",
       "      <th>val_f1_score</th>\n",
       "      <th>val_recall_score</th>\n",
       "      <th>val_precision_score</th>\n",
       "      <th>val_balanced_accuracy_score</th>\n",
       "      <th>train_f1_score</th>\n",
       "      <th>train_recall_score</th>\n",
       "      <th>train_precision_score</th>\n",
       "      <th>train_balanced_accuracy_score</th>\n",
       "    </tr>\n",
       "  </thead>\n",
       "  <tbody>\n",
       "    <tr>\n",
       "      <th>RF_fe</th>\n",
       "      <td>0.54</td>\n",
       "      <td>0.57</td>\n",
       "      <td>0.51</td>\n",
       "      <td>0.71</td>\n",
       "      <td>0.60</td>\n",
       "      <td>0.64</td>\n",
       "      <td>0.57</td>\n",
       "      <td>0.75</td>\n",
       "    </tr>\n",
       "    <tr>\n",
       "      <th>HGB_fe</th>\n",
       "      <td>0.54</td>\n",
       "      <td>0.62</td>\n",
       "      <td>0.47</td>\n",
       "      <td>0.71</td>\n",
       "      <td>0.60</td>\n",
       "      <td>0.70</td>\n",
       "      <td>0.53</td>\n",
       "      <td>0.76</td>\n",
       "    </tr>\n",
       "    <tr>\n",
       "      <th>HGB_fe_fs_manual</th>\n",
       "      <td>0.54</td>\n",
       "      <td>0.62</td>\n",
       "      <td>0.48</td>\n",
       "      <td>0.72</td>\n",
       "      <td>0.59</td>\n",
       "      <td>0.69</td>\n",
       "      <td>0.51</td>\n",
       "      <td>0.75</td>\n",
       "    </tr>\n",
       "    <tr>\n",
       "      <th>HGB_fe_fs</th>\n",
       "      <td>0.54</td>\n",
       "      <td>0.63</td>\n",
       "      <td>0.47</td>\n",
       "      <td>0.72</td>\n",
       "      <td>0.59</td>\n",
       "      <td>0.69</td>\n",
       "      <td>0.52</td>\n",
       "      <td>0.76</td>\n",
       "    </tr>\n",
       "    <tr>\n",
       "      <th>LGBM_fe</th>\n",
       "      <td>0.54</td>\n",
       "      <td>0.62</td>\n",
       "      <td>0.47</td>\n",
       "      <td>0.71</td>\n",
       "      <td>0.67</td>\n",
       "      <td>0.78</td>\n",
       "      <td>0.59</td>\n",
       "      <td>0.81</td>\n",
       "    </tr>\n",
       "    <tr>\n",
       "      <th>RF_fe_fs_manual</th>\n",
       "      <td>0.54</td>\n",
       "      <td>0.60</td>\n",
       "      <td>0.49</td>\n",
       "      <td>0.71</td>\n",
       "      <td>0.59</td>\n",
       "      <td>0.64</td>\n",
       "      <td>0.55</td>\n",
       "      <td>0.75</td>\n",
       "    </tr>\n",
       "    <tr>\n",
       "      <th>HistGradientBoosting</th>\n",
       "      <td>0.54</td>\n",
       "      <td>0.64</td>\n",
       "      <td>0.47</td>\n",
       "      <td>0.72</td>\n",
       "      <td>0.58</td>\n",
       "      <td>0.68</td>\n",
       "      <td>0.50</td>\n",
       "      <td>0.74</td>\n",
       "    </tr>\n",
       "    <tr>\n",
       "      <th>LGBM</th>\n",
       "      <td>0.53</td>\n",
       "      <td>0.62</td>\n",
       "      <td>0.46</td>\n",
       "      <td>0.71</td>\n",
       "      <td>0.64</td>\n",
       "      <td>0.75</td>\n",
       "      <td>0.55</td>\n",
       "      <td>0.79</td>\n",
       "    </tr>\n",
       "    <tr>\n",
       "      <th>RandomForest</th>\n",
       "      <td>0.53</td>\n",
       "      <td>0.57</td>\n",
       "      <td>0.49</td>\n",
       "      <td>0.70</td>\n",
       "      <td>0.59</td>\n",
       "      <td>0.64</td>\n",
       "      <td>0.56</td>\n",
       "      <td>0.75</td>\n",
       "    </tr>\n",
       "    <tr>\n",
       "      <th>HGB_fs_15</th>\n",
       "      <td>0.53</td>\n",
       "      <td>0.63</td>\n",
       "      <td>0.46</td>\n",
       "      <td>0.71</td>\n",
       "      <td>0.60</td>\n",
       "      <td>0.70</td>\n",
       "      <td>0.52</td>\n",
       "      <td>0.76</td>\n",
       "    </tr>\n",
       "    <tr>\n",
       "      <th>SVM_fe_fs_manual</th>\n",
       "      <td>0.53</td>\n",
       "      <td>0.57</td>\n",
       "      <td>0.50</td>\n",
       "      <td>0.70</td>\n",
       "      <td>0.55</td>\n",
       "      <td>0.60</td>\n",
       "      <td>0.51</td>\n",
       "      <td>0.72</td>\n",
       "    </tr>\n",
       "    <tr>\n",
       "      <th>SVM_fs_15</th>\n",
       "      <td>0.52</td>\n",
       "      <td>0.59</td>\n",
       "      <td>0.47</td>\n",
       "      <td>0.70</td>\n",
       "      <td>0.56</td>\n",
       "      <td>0.62</td>\n",
       "      <td>0.50</td>\n",
       "      <td>0.72</td>\n",
       "    </tr>\n",
       "    <tr>\n",
       "      <th>SVM</th>\n",
       "      <td>0.51</td>\n",
       "      <td>0.56</td>\n",
       "      <td>0.46</td>\n",
       "      <td>0.69</td>\n",
       "      <td>0.52</td>\n",
       "      <td>0.57</td>\n",
       "      <td>0.47</td>\n",
       "      <td>0.69</td>\n",
       "    </tr>\n",
       "    <tr>\n",
       "      <th>SVM_fe</th>\n",
       "      <td>0.51</td>\n",
       "      <td>0.54</td>\n",
       "      <td>0.48</td>\n",
       "      <td>0.69</td>\n",
       "      <td>0.52</td>\n",
       "      <td>0.55</td>\n",
       "      <td>0.50</td>\n",
       "      <td>0.70</td>\n",
       "    </tr>\n",
       "    <tr>\n",
       "      <th>MLP</th>\n",
       "      <td>0.47</td>\n",
       "      <td>0.37</td>\n",
       "      <td>0.66</td>\n",
       "      <td>0.66</td>\n",
       "      <td>0.49</td>\n",
       "      <td>0.38</td>\n",
       "      <td>0.68</td>\n",
       "      <td>0.67</td>\n",
       "    </tr>\n",
       "    <tr>\n",
       "      <th>AdaBoost</th>\n",
       "      <td>0.46</td>\n",
       "      <td>0.35</td>\n",
       "      <td>0.68</td>\n",
       "      <td>0.65</td>\n",
       "      <td>0.46</td>\n",
       "      <td>0.34</td>\n",
       "      <td>0.68</td>\n",
       "      <td>0.65</td>\n",
       "    </tr>\n",
       "    <tr>\n",
       "      <th>Bagging</th>\n",
       "      <td>0.43</td>\n",
       "      <td>0.34</td>\n",
       "      <td>0.60</td>\n",
       "      <td>0.64</td>\n",
       "      <td>0.95</td>\n",
       "      <td>0.91</td>\n",
       "      <td>0.99</td>\n",
       "      <td>0.96</td>\n",
       "    </tr>\n",
       "  </tbody>\n",
       "</table>\n",
       "</div>"
      ],
      "text/plain": [
       "                      val_f1_score  val_recall_score  val_precision_score  \\\n",
       "RF_fe                         0.54              0.57                 0.51   \n",
       "HGB_fe                        0.54              0.62                 0.47   \n",
       "HGB_fe_fs_manual              0.54              0.62                 0.48   \n",
       "HGB_fe_fs                     0.54              0.63                 0.47   \n",
       "LGBM_fe                       0.54              0.62                 0.47   \n",
       "RF_fe_fs_manual               0.54              0.60                 0.49   \n",
       "HistGradientBoosting          0.54              0.64                 0.47   \n",
       "LGBM                          0.53              0.62                 0.46   \n",
       "RandomForest                  0.53              0.57                 0.49   \n",
       "HGB_fs_15                     0.53              0.63                 0.46   \n",
       "SVM_fe_fs_manual              0.53              0.57                 0.50   \n",
       "SVM_fs_15                     0.52              0.59                 0.47   \n",
       "SVM                           0.51              0.56                 0.46   \n",
       "SVM_fe                        0.51              0.54                 0.48   \n",
       "MLP                           0.47              0.37                 0.66   \n",
       "AdaBoost                      0.46              0.35                 0.68   \n",
       "Bagging                       0.43              0.34                 0.60   \n",
       "\n",
       "                      val_balanced_accuracy_score  train_f1_score  \\\n",
       "RF_fe                                        0.71            0.60   \n",
       "HGB_fe                                       0.71            0.60   \n",
       "HGB_fe_fs_manual                             0.72            0.59   \n",
       "HGB_fe_fs                                    0.72            0.59   \n",
       "LGBM_fe                                      0.71            0.67   \n",
       "RF_fe_fs_manual                              0.71            0.59   \n",
       "HistGradientBoosting                         0.72            0.58   \n",
       "LGBM                                         0.71            0.64   \n",
       "RandomForest                                 0.70            0.59   \n",
       "HGB_fs_15                                    0.71            0.60   \n",
       "SVM_fe_fs_manual                             0.70            0.55   \n",
       "SVM_fs_15                                    0.70            0.56   \n",
       "SVM                                          0.69            0.52   \n",
       "SVM_fe                                       0.69            0.52   \n",
       "MLP                                          0.66            0.49   \n",
       "AdaBoost                                     0.65            0.46   \n",
       "Bagging                                      0.64            0.95   \n",
       "\n",
       "                      train_recall_score  train_precision_score  \\\n",
       "RF_fe                               0.64                   0.57   \n",
       "HGB_fe                              0.70                   0.53   \n",
       "HGB_fe_fs_manual                    0.69                   0.51   \n",
       "HGB_fe_fs                           0.69                   0.52   \n",
       "LGBM_fe                             0.78                   0.59   \n",
       "RF_fe_fs_manual                     0.64                   0.55   \n",
       "HistGradientBoosting                0.68                   0.50   \n",
       "LGBM                                0.75                   0.55   \n",
       "RandomForest                        0.64                   0.56   \n",
       "HGB_fs_15                           0.70                   0.52   \n",
       "SVM_fe_fs_manual                    0.60                   0.51   \n",
       "SVM_fs_15                           0.62                   0.50   \n",
       "SVM                                 0.57                   0.47   \n",
       "SVM_fe                              0.55                   0.50   \n",
       "MLP                                 0.38                   0.68   \n",
       "AdaBoost                            0.34                   0.68   \n",
       "Bagging                             0.91                   0.99   \n",
       "\n",
       "                      train_balanced_accuracy_score  \n",
       "RF_fe                                          0.75  \n",
       "HGB_fe                                         0.76  \n",
       "HGB_fe_fs_manual                               0.75  \n",
       "HGB_fe_fs                                      0.76  \n",
       "LGBM_fe                                        0.81  \n",
       "RF_fe_fs_manual                                0.75  \n",
       "HistGradientBoosting                           0.74  \n",
       "LGBM                                           0.79  \n",
       "RandomForest                                   0.75  \n",
       "HGB_fs_15                                      0.76  \n",
       "SVM_fe_fs_manual                               0.72  \n",
       "SVM_fs_15                                      0.72  \n",
       "SVM                                            0.69  \n",
       "SVM_fe                                         0.70  \n",
       "MLP                                            0.67  \n",
       "AdaBoost                                       0.65  \n",
       "Bagging                                        0.96  "
      ]
     },
     "execution_count": 47,
     "metadata": {},
     "output_type": "execute_result"
    }
   ],
   "source": [
    "results = models_trainer.get_results_dict()\n",
    "df_results = pd.DataFrame.from_dict(results, orient=\"index\")\n",
    "df_results.sort_values(by=\"val_f1_score\", ascending=False)"
   ]
  },
  {
   "cell_type": "markdown",
   "id": "8e91df93",
   "metadata": {},
   "source": [
    "The best set of variables is the manual selection. The performance of RF and LGBM with the selected features are as follow:"
   ]
  },
  {
   "cell_type": "code",
   "execution_count": 48,
   "id": "23e60353",
   "metadata": {},
   "outputs": [
    {
     "name": "stdout",
     "output_type": "stream",
     "text": [
      "\t#### RF_FE_FS_MANUAL RESULTS ####\n",
      "Train scores:\n",
      "              precision    recall  f1-score   support\n",
      "\n",
      "           0       0.89      0.85      0.87     16354\n",
      "           1       0.54      0.64      0.59      4646\n",
      "\n",
      "    accuracy                           0.80     21000\n",
      "   macro avg       0.72      0.74      0.73     21000\n",
      "weighted avg       0.81      0.80      0.81     21000\n",
      "\n",
      "Val scores:\n",
      "              precision    recall  f1-score   support\n",
      "\n",
      "           0       0.88      0.84      0.86      3505\n",
      "           1       0.51      0.58      0.54       995\n",
      "\n",
      "    accuracy                           0.79      4500\n",
      "   macro avg       0.69      0.71      0.70      4500\n",
      "weighted avg       0.80      0.79      0.79      4500\n",
      "\n"
     ]
    },
    {
     "data": {
      "text/plain": [
       "{'val_f1_score': 0.54,\n",
       " 'val_recall_score': 0.58,\n",
       " 'val_precision_score': 0.51,\n",
       " 'val_balanced_accuracy_score': 0.71,\n",
       " 'train_f1_score': 0.59,\n",
       " 'train_recall_score': 0.64,\n",
       " 'train_precision_score': 0.54,\n",
       " 'train_balanced_accuracy_score': 0.74}"
      ]
     },
     "execution_count": 48,
     "metadata": {},
     "output_type": "execute_result"
    }
   ],
   "source": [
    "rfc = RandomForestClassifier(max_depth=8, class_weight=\"balanced\", random_state=seed)\n",
    "\n",
    "models_trainer.train_classifier(classifier=rfc, classifier_name=\"RF_fe_fs_manual\")\n",
    "models_trainer.evaluate_classifier(classifier_name=\"RF_fe_fs_manual\", store_results=True, print_classification_report=True)"
   ]
  },
  {
   "cell_type": "code",
   "execution_count": 49,
   "id": "96f583b4",
   "metadata": {},
   "outputs": [
    {
     "name": "stdout",
     "output_type": "stream",
     "text": [
      "\t#### LGBM_FE_FS_MANUAL RESULTS ####\n",
      "Train scores:\n",
      "              precision    recall  f1-score   support\n",
      "\n",
      "           0       0.91      0.82      0.86     16354\n",
      "           1       0.53      0.73      0.62      4646\n",
      "\n",
      "    accuracy                           0.80     21000\n",
      "   macro avg       0.72      0.78      0.74     21000\n",
      "weighted avg       0.83      0.80      0.81     21000\n",
      "\n",
      "Val scores:\n",
      "              precision    recall  f1-score   support\n",
      "\n",
      "           0       0.88      0.81      0.85      3505\n",
      "           1       0.48      0.61      0.54       995\n",
      "\n",
      "    accuracy                           0.77      4500\n",
      "   macro avg       0.68      0.71      0.69      4500\n",
      "weighted avg       0.79      0.77      0.78      4500\n",
      "\n"
     ]
    },
    {
     "data": {
      "text/plain": [
       "{'val_f1_score': 0.54,\n",
       " 'val_recall_score': 0.61,\n",
       " 'val_precision_score': 0.48,\n",
       " 'val_balanced_accuracy_score': 0.71,\n",
       " 'train_f1_score': 0.62,\n",
       " 'train_recall_score': 0.73,\n",
       " 'train_precision_score': 0.53,\n",
       " 'train_balanced_accuracy_score': 0.78}"
      ]
     },
     "execution_count": 49,
     "metadata": {},
     "output_type": "execute_result"
    }
   ],
   "source": [
    "lgbm = LGBMClassifier(class_weight=\"balanced\", random_state=seed)\n",
    "\n",
    "models_trainer.train_classifier(classifier=lgbm, classifier_name=\"LGBM_fe_fs_manual\")\n",
    "models_trainer.evaluate_classifier(classifier_name=\"LGBM_fe_fs_manual\", store_results=True, print_classification_report=True)"
   ]
  },
  {
   "cell_type": "markdown",
   "id": "d1e63c45",
   "metadata": {},
   "source": [
    "results = models_trainer.get_results_dict()\n",
    "df_results = pd.DataFrame.from_dict(results, orient=\"index\")\n",
    "df_results.sort_values(by=\"val_f1_score\", ascending=False)"
   ]
  },
  {
   "cell_type": "code",
   "execution_count": 51,
   "id": "6f265017",
   "metadata": {},
   "outputs": [
    {
     "data": {
      "text/html": [
       "<div>\n",
       "<style scoped>\n",
       "    .dataframe tbody tr th:only-of-type {\n",
       "        vertical-align: middle;\n",
       "    }\n",
       "\n",
       "    .dataframe tbody tr th {\n",
       "        vertical-align: top;\n",
       "    }\n",
       "\n",
       "    .dataframe thead th {\n",
       "        text-align: right;\n",
       "    }\n",
       "</style>\n",
       "<table border=\"1\" class=\"dataframe\">\n",
       "  <thead>\n",
       "    <tr style=\"text-align: right;\">\n",
       "      <th></th>\n",
       "      <th>val_f1_score</th>\n",
       "      <th>val_recall_score</th>\n",
       "      <th>val_precision_score</th>\n",
       "      <th>val_balanced_accuracy_score</th>\n",
       "      <th>train_f1_score</th>\n",
       "      <th>train_recall_score</th>\n",
       "      <th>train_precision_score</th>\n",
       "      <th>train_balanced_accuracy_score</th>\n",
       "    </tr>\n",
       "  </thead>\n",
       "  <tbody>\n",
       "    <tr>\n",
       "      <th>LGBM_fe</th>\n",
       "      <td>0.54</td>\n",
       "      <td>0.62</td>\n",
       "      <td>0.47</td>\n",
       "      <td>0.71</td>\n",
       "      <td>0.67</td>\n",
       "      <td>0.78</td>\n",
       "      <td>0.59</td>\n",
       "      <td>0.81</td>\n",
       "    </tr>\n",
       "    <tr>\n",
       "      <th>HGB_fe</th>\n",
       "      <td>0.54</td>\n",
       "      <td>0.62</td>\n",
       "      <td>0.47</td>\n",
       "      <td>0.71</td>\n",
       "      <td>0.60</td>\n",
       "      <td>0.70</td>\n",
       "      <td>0.53</td>\n",
       "      <td>0.76</td>\n",
       "    </tr>\n",
       "    <tr>\n",
       "      <th>RF_fe_fs_manual</th>\n",
       "      <td>0.54</td>\n",
       "      <td>0.58</td>\n",
       "      <td>0.51</td>\n",
       "      <td>0.71</td>\n",
       "      <td>0.59</td>\n",
       "      <td>0.64</td>\n",
       "      <td>0.54</td>\n",
       "      <td>0.74</td>\n",
       "    </tr>\n",
       "    <tr>\n",
       "      <th>HGB_fe_fs_manual</th>\n",
       "      <td>0.54</td>\n",
       "      <td>0.62</td>\n",
       "      <td>0.48</td>\n",
       "      <td>0.72</td>\n",
       "      <td>0.59</td>\n",
       "      <td>0.69</td>\n",
       "      <td>0.51</td>\n",
       "      <td>0.75</td>\n",
       "    </tr>\n",
       "    <tr>\n",
       "      <th>HGB_fe_fs</th>\n",
       "      <td>0.54</td>\n",
       "      <td>0.63</td>\n",
       "      <td>0.47</td>\n",
       "      <td>0.72</td>\n",
       "      <td>0.59</td>\n",
       "      <td>0.69</td>\n",
       "      <td>0.52</td>\n",
       "      <td>0.76</td>\n",
       "    </tr>\n",
       "    <tr>\n",
       "      <th>RF_fe</th>\n",
       "      <td>0.54</td>\n",
       "      <td>0.57</td>\n",
       "      <td>0.51</td>\n",
       "      <td>0.71</td>\n",
       "      <td>0.60</td>\n",
       "      <td>0.64</td>\n",
       "      <td>0.57</td>\n",
       "      <td>0.75</td>\n",
       "    </tr>\n",
       "    <tr>\n",
       "      <th>LGBM_fe_fs_manual</th>\n",
       "      <td>0.54</td>\n",
       "      <td>0.61</td>\n",
       "      <td>0.48</td>\n",
       "      <td>0.71</td>\n",
       "      <td>0.62</td>\n",
       "      <td>0.73</td>\n",
       "      <td>0.53</td>\n",
       "      <td>0.78</td>\n",
       "    </tr>\n",
       "    <tr>\n",
       "      <th>HistGradientBoosting</th>\n",
       "      <td>0.54</td>\n",
       "      <td>0.64</td>\n",
       "      <td>0.47</td>\n",
       "      <td>0.72</td>\n",
       "      <td>0.58</td>\n",
       "      <td>0.68</td>\n",
       "      <td>0.50</td>\n",
       "      <td>0.74</td>\n",
       "    </tr>\n",
       "    <tr>\n",
       "      <th>LGBM</th>\n",
       "      <td>0.53</td>\n",
       "      <td>0.62</td>\n",
       "      <td>0.46</td>\n",
       "      <td>0.71</td>\n",
       "      <td>0.64</td>\n",
       "      <td>0.75</td>\n",
       "      <td>0.55</td>\n",
       "      <td>0.79</td>\n",
       "    </tr>\n",
       "    <tr>\n",
       "      <th>HGB_fs_15</th>\n",
       "      <td>0.53</td>\n",
       "      <td>0.63</td>\n",
       "      <td>0.46</td>\n",
       "      <td>0.71</td>\n",
       "      <td>0.60</td>\n",
       "      <td>0.70</td>\n",
       "      <td>0.52</td>\n",
       "      <td>0.76</td>\n",
       "    </tr>\n",
       "    <tr>\n",
       "      <th>RandomForest</th>\n",
       "      <td>0.53</td>\n",
       "      <td>0.57</td>\n",
       "      <td>0.49</td>\n",
       "      <td>0.70</td>\n",
       "      <td>0.59</td>\n",
       "      <td>0.64</td>\n",
       "      <td>0.56</td>\n",
       "      <td>0.75</td>\n",
       "    </tr>\n",
       "    <tr>\n",
       "      <th>SVM_fe_fs_manual</th>\n",
       "      <td>0.53</td>\n",
       "      <td>0.57</td>\n",
       "      <td>0.50</td>\n",
       "      <td>0.70</td>\n",
       "      <td>0.55</td>\n",
       "      <td>0.60</td>\n",
       "      <td>0.51</td>\n",
       "      <td>0.72</td>\n",
       "    </tr>\n",
       "    <tr>\n",
       "      <th>SVM_fs_15</th>\n",
       "      <td>0.52</td>\n",
       "      <td>0.59</td>\n",
       "      <td>0.47</td>\n",
       "      <td>0.70</td>\n",
       "      <td>0.56</td>\n",
       "      <td>0.62</td>\n",
       "      <td>0.50</td>\n",
       "      <td>0.72</td>\n",
       "    </tr>\n",
       "    <tr>\n",
       "      <th>SVM</th>\n",
       "      <td>0.51</td>\n",
       "      <td>0.56</td>\n",
       "      <td>0.46</td>\n",
       "      <td>0.69</td>\n",
       "      <td>0.52</td>\n",
       "      <td>0.57</td>\n",
       "      <td>0.47</td>\n",
       "      <td>0.69</td>\n",
       "    </tr>\n",
       "    <tr>\n",
       "      <th>SVM_fe</th>\n",
       "      <td>0.51</td>\n",
       "      <td>0.54</td>\n",
       "      <td>0.48</td>\n",
       "      <td>0.69</td>\n",
       "      <td>0.52</td>\n",
       "      <td>0.55</td>\n",
       "      <td>0.50</td>\n",
       "      <td>0.70</td>\n",
       "    </tr>\n",
       "    <tr>\n",
       "      <th>MLP</th>\n",
       "      <td>0.47</td>\n",
       "      <td>0.37</td>\n",
       "      <td>0.66</td>\n",
       "      <td>0.66</td>\n",
       "      <td>0.49</td>\n",
       "      <td>0.38</td>\n",
       "      <td>0.68</td>\n",
       "      <td>0.67</td>\n",
       "    </tr>\n",
       "    <tr>\n",
       "      <th>AdaBoost</th>\n",
       "      <td>0.46</td>\n",
       "      <td>0.35</td>\n",
       "      <td>0.68</td>\n",
       "      <td>0.65</td>\n",
       "      <td>0.46</td>\n",
       "      <td>0.34</td>\n",
       "      <td>0.68</td>\n",
       "      <td>0.65</td>\n",
       "    </tr>\n",
       "    <tr>\n",
       "      <th>Bagging</th>\n",
       "      <td>0.43</td>\n",
       "      <td>0.34</td>\n",
       "      <td>0.60</td>\n",
       "      <td>0.64</td>\n",
       "      <td>0.95</td>\n",
       "      <td>0.91</td>\n",
       "      <td>0.99</td>\n",
       "      <td>0.96</td>\n",
       "    </tr>\n",
       "  </tbody>\n",
       "</table>\n",
       "</div>"
      ],
      "text/plain": [
       "                      val_f1_score  val_recall_score  val_precision_score  \\\n",
       "LGBM_fe                       0.54              0.62                 0.47   \n",
       "HGB_fe                        0.54              0.62                 0.47   \n",
       "RF_fe_fs_manual               0.54              0.58                 0.51   \n",
       "HGB_fe_fs_manual              0.54              0.62                 0.48   \n",
       "HGB_fe_fs                     0.54              0.63                 0.47   \n",
       "RF_fe                         0.54              0.57                 0.51   \n",
       "LGBM_fe_fs_manual             0.54              0.61                 0.48   \n",
       "HistGradientBoosting          0.54              0.64                 0.47   \n",
       "LGBM                          0.53              0.62                 0.46   \n",
       "HGB_fs_15                     0.53              0.63                 0.46   \n",
       "RandomForest                  0.53              0.57                 0.49   \n",
       "SVM_fe_fs_manual              0.53              0.57                 0.50   \n",
       "SVM_fs_15                     0.52              0.59                 0.47   \n",
       "SVM                           0.51              0.56                 0.46   \n",
       "SVM_fe                        0.51              0.54                 0.48   \n",
       "MLP                           0.47              0.37                 0.66   \n",
       "AdaBoost                      0.46              0.35                 0.68   \n",
       "Bagging                       0.43              0.34                 0.60   \n",
       "\n",
       "                      val_balanced_accuracy_score  train_f1_score  \\\n",
       "LGBM_fe                                      0.71            0.67   \n",
       "HGB_fe                                       0.71            0.60   \n",
       "RF_fe_fs_manual                              0.71            0.59   \n",
       "HGB_fe_fs_manual                             0.72            0.59   \n",
       "HGB_fe_fs                                    0.72            0.59   \n",
       "RF_fe                                        0.71            0.60   \n",
       "LGBM_fe_fs_manual                            0.71            0.62   \n",
       "HistGradientBoosting                         0.72            0.58   \n",
       "LGBM                                         0.71            0.64   \n",
       "HGB_fs_15                                    0.71            0.60   \n",
       "RandomForest                                 0.70            0.59   \n",
       "SVM_fe_fs_manual                             0.70            0.55   \n",
       "SVM_fs_15                                    0.70            0.56   \n",
       "SVM                                          0.69            0.52   \n",
       "SVM_fe                                       0.69            0.52   \n",
       "MLP                                          0.66            0.49   \n",
       "AdaBoost                                     0.65            0.46   \n",
       "Bagging                                      0.64            0.95   \n",
       "\n",
       "                      train_recall_score  train_precision_score  \\\n",
       "LGBM_fe                             0.78                   0.59   \n",
       "HGB_fe                              0.70                   0.53   \n",
       "RF_fe_fs_manual                     0.64                   0.54   \n",
       "HGB_fe_fs_manual                    0.69                   0.51   \n",
       "HGB_fe_fs                           0.69                   0.52   \n",
       "RF_fe                               0.64                   0.57   \n",
       "LGBM_fe_fs_manual                   0.73                   0.53   \n",
       "HistGradientBoosting                0.68                   0.50   \n",
       "LGBM                                0.75                   0.55   \n",
       "HGB_fs_15                           0.70                   0.52   \n",
       "RandomForest                        0.64                   0.56   \n",
       "SVM_fe_fs_manual                    0.60                   0.51   \n",
       "SVM_fs_15                           0.62                   0.50   \n",
       "SVM                                 0.57                   0.47   \n",
       "SVM_fe                              0.55                   0.50   \n",
       "MLP                                 0.38                   0.68   \n",
       "AdaBoost                            0.34                   0.68   \n",
       "Bagging                             0.91                   0.99   \n",
       "\n",
       "                      train_balanced_accuracy_score  \n",
       "LGBM_fe                                        0.81  \n",
       "HGB_fe                                         0.76  \n",
       "RF_fe_fs_manual                                0.74  \n",
       "HGB_fe_fs_manual                               0.75  \n",
       "HGB_fe_fs                                      0.76  \n",
       "RF_fe                                          0.75  \n",
       "LGBM_fe_fs_manual                              0.78  \n",
       "HistGradientBoosting                           0.74  \n",
       "LGBM                                           0.79  \n",
       "HGB_fs_15                                      0.76  \n",
       "RandomForest                                   0.75  \n",
       "SVM_fe_fs_manual                               0.72  \n",
       "SVM_fs_15                                      0.72  \n",
       "SVM                                            0.69  \n",
       "SVM_fe                                         0.70  \n",
       "MLP                                            0.67  \n",
       "AdaBoost                                       0.65  \n",
       "Bagging                                        0.96  "
      ]
     },
     "execution_count": 51,
     "metadata": {},
     "output_type": "execute_result"
    }
   ],
   "source": [
    "results = models_trainer.get_results_dict()\n",
    "df_results = pd.DataFrame.from_dict(results, orient=\"index\")\n",
    "df_results.sort_values(by=\"val_f1_score\", ascending=False)"
   ]
  },
  {
   "cell_type": "markdown",
   "id": "d3b9123f",
   "metadata": {},
   "source": [
    "ROC curves for HGB, SVM, RF and LGBM (models trained with manual selection of variables):"
   ]
  },
  {
   "cell_type": "code",
   "execution_count": 84,
   "id": "d291dde7",
   "metadata": {},
   "outputs": [
    {
     "data": {
      "image/png": "[encoded data removed]",
      "text/plain": [
       "<Figure size 640x480 with 1 Axes>"
      ]
     },
     "metadata": {},
     "output_type": "display_data"
    }
   ],
   "source": [
    "models = [\n",
    "    (\"LGBM_fe_fs_manual\", models_trainer.models.get(\"LGBM_fe_fs_manual\")),\n",
    "    (\"HGB_fe_fs_manual\", models_trainer.models.get(\"HGB_fe_fs_manual\")),\n",
    "    (\"RF_fe_fs_manual\", models_trainer.models.get(\"RF_fe_fs_manual\")),\n",
    "    (\"SVM_fe_fs_manual\", models_trainer.models.get(\"SVM_fe_fs_manual\"))      \n",
    "]\n",
    "\n",
    "X_train, y_train = models_trainer.X_train, models_trainer.y_train\n",
    "X_val, y_val = models_trainer.X_val, models_trainer.y_val\n",
    "X_test, y_test = models_trainer.X_test, models_trainer.y_test\n",
    "\n",
    "fig, ax = plt.subplots()\n",
    "model_displays = {}\n",
    "for name, pipeline in models:\n",
    "    model_displays[name] = RocCurveDisplay.from_estimator(\n",
    "        pipeline, X_val, y_val, ax=ax, name=name\n",
    "    )\n",
    "_ = ax.set_title(\"ROC curves\")\n",
    "\n",
    "#ax.set_xlim(0, 0.3)\n",
    "#ax.set_ylim(0.5, 0.8)\n",
    "#_ = ax.set_title(\"ROC curve (zoomed in at top left)\")"
   ]
  },
  {
   "cell_type": "code",
   "execution_count": 85,
   "id": "2369c3c4",
   "metadata": {},
   "outputs": [
    {
     "data": {
      "image/png": "[encoded data removed]",
      "text/plain": [
       "<Figure size 640x480 with 1 Axes>"
      ]
     },
     "metadata": {},
     "output_type": "display_data"
    }
   ],
   "source": [
    "# Precision-recall curves:\n",
    "fig, ax = plt.subplots()\n",
    "model_displays = {}\n",
    "for name, pipeline in models:\n",
    "    model_displays[name] = PrecisionRecallDisplay.from_estimator(\n",
    "        pipeline, X_val, y_val, ax=ax, name=name\n",
    "    )\n",
    "_ = ax.set_title(\"Precision-Recall curves\")"
   ]
  },
  {
   "cell_type": "markdown",
   "id": "7d83bad0",
   "metadata": {},
   "source": [
    "LGBM, HGB and RF have an extremely similar performance regarding their ROC curves and precision-recall curves. The main reasons for that might be due the fact the three are based on decision trees and share some underlying principles, such as being ensemble methods that use tree-based estimators to make predictions. They also have a comparable model complexity. \n",
    "\n",
    "From this moment onwards, SVM will be discarded, considering its inferior performance when compared to LGBM, HGB and RF."
   ]
  },
  {
   "cell_type": "code",
   "execution_count": 86,
   "id": "7c4790e4",
   "metadata": {},
   "outputs": [
    {
     "data": {
      "image/png": "[encoded data removed]",
      "text/plain": [
       "<Figure size 640x480 with 1 Axes>"
      ]
     },
     "metadata": {},
     "output_type": "display_data"
    }
   ],
   "source": [
    "# Calibration curves:\n",
    "models = models[0:3]\n",
    "\n",
    "fig, ax = plt.subplots()\n",
    "model_displays = {}\n",
    "for name, pipeline in models:\n",
    "    model_displays[name] = CalibrationDisplay.from_estimator(\n",
    "        pipeline, X_val, y_val, ax=ax, name=name\n",
    "    )\n",
    "_ = ax.set_title(\"Calibration curves\")"
   ]
  },
  {
   "cell_type": "markdown",
   "id": "04487938",
   "metadata": {},
   "source": [
    "All three calibration lines are below to the perfectly calibrated imaginary line, which means all models are showing signs of over-confidence. However, RF approximates slightly better the perfectly calibrated line for the positive class (it also haves a higher validation precision score than the other two models). \n",
    "\n",
    "Unfortunately, feature engineering and feature selection didn't bring the expected improvements in the results.\n",
    "\n",
    "The models moving to the next phase where threshold moving will be performed are RF, LGBM and HGB. \n",
    "\n",
    "<br>\n",
    "\n",
    "<div class=\"alert alert-block alert-info\">\n",
    "    <b>Current best f1-score:</b> 54%\n",
    "</div>"
   ]
  },
  {
   "cell_type": "markdown",
   "id": "840bea72",
   "metadata": {},
   "source": [
    "### Modeling - Optimal Threshold Tuning"
   ]
  },
  {
   "cell_type": "code",
   "execution_count": 87,
   "id": "e7608b8d",
   "metadata": {},
   "outputs": [
    {
     "name": "stdout",
     "output_type": "stream",
     "text": [
      "\n",
      "Searching best threshold for LGBM_fe_fs_manual\n",
      "Threshold=0.620, F-Score=0.54\n",
      "\n",
      "Searching best threshold for HGB_fe_fs_manual\n",
      "Threshold=0.580, F-Score=0.55\n",
      "\n",
      "Searching best threshold for RF_fe_fs_manual\n",
      "Threshold=0.540, F-Score=0.55\n"
     ]
    }
   ],
   "source": [
    "# Source: https://machinelearningmastery.com/threshold-moving-for-imbalanced-classification/\n",
    "\n",
    "# apply threshold to positive probabilities to create labels\n",
    "def to_labels(pos_probs, threshold):\n",
    "    return (pos_probs >= threshold).astype('int')\n",
    "\n",
    "for m in models:\n",
    "    print(f\"\\nSearching best threshold for {m[0]}\")\n",
    "    model = m[1]\n",
    "    preds = model.predict_proba(X_val)\n",
    "    # keep probabilities for the positive outcome only\n",
    "    probs = preds[:, 1]\n",
    "    \n",
    "    # define thresholds\n",
    "    thresholds = np.arange(0, 1, 0.01)\n",
    "    \n",
    "    # evaluate each threshold\n",
    "    scores = [f1_score(y_val, to_labels(probs, t)) for t in thresholds]\n",
    "    \n",
    "    # get best threshold\n",
    "    ix = np.argmax(scores)\n",
    "    print('Threshold=%.3f, F-Score=%.2f' % (thresholds[ix], scores[ix]))"
   ]
  },
  {
   "cell_type": "markdown",
   "id": "6fc3a887",
   "metadata": {},
   "source": [
    "Adjusting the probability threshold allowed to improve the validation f1-score in 1%. \n",
    "\n",
    "The models moving to the next phase to be tuned will are RF and HGB. \n",
    "\n",
    "<br>\n",
    "\n",
    "<div class=\"alert alert-block alert-info\">\n",
    "    <b>Current best f1-score:</b> 55%\n",
    "</div>"
   ]
  },
  {
   "cell_type": "markdown",
   "id": "e3b69c6f",
   "metadata": {},
   "source": [
    "### Modeling - Hyperparameter Tuning"
   ]
  },
  {
   "cell_type": "code",
   "execution_count": 99,
   "id": "575223f3",
   "metadata": {},
   "outputs": [],
   "source": [
    "from sklearn.model_selection import RandomizedSearchCV"
   ]
  },
  {
   "cell_type": "code",
   "execution_count": 118,
   "id": "4495282d",
   "metadata": {},
   "outputs": [
    {
     "name": "stdout",
     "output_type": "stream",
     "text": [
      "Fitting 3 folds for each of 30 candidates, totalling 90 fits\n"
     ]
    },
    {
     "data": {
      "text/html": [
       "<style>#sk-container-id-4 {color: black;}#sk-container-id-4 pre{padding: 0;}#sk-container-id-4 div.sk-toggleable {background-color: white;}#sk-container-id-4 label.sk-toggleable__label {cursor: pointer;display: block;width: 100%;margin-bottom: 0;padding: 0.3em;box-sizing: border-box;text-align: center;}#sk-container-id-4 label.sk-toggleable__label-arrow:before {content: \"▸\";float: left;margin-right: 0.25em;color: #696969;}#sk-container-id-4 label.sk-toggleable__label-arrow:hover:before {color: black;}#sk-container-id-4 div.sk-estimator:hover label.sk-toggleable__label-arrow:before {color: black;}#sk-container-id-4 div.sk-toggleable__content {max-height: 0;max-width: 0;overflow: hidden;text-align: left;background-color: #f0f8ff;}#sk-container-id-4 div.sk-toggleable__content pre {margin: 0.2em;color: black;border-radius: 0.25em;background-color: #f0f8ff;}#sk-container-id-4 input.sk-toggleable__control:checked~div.sk-toggleable__content {max-height: 200px;max-width: 100%;overflow: auto;}#sk-container-id-4 input.sk-toggleable__control:checked~label.sk-toggleable__label-arrow:before {content: \"▾\";}#sk-container-id-4 div.sk-estimator input.sk-toggleable__control:checked~label.sk-toggleable__label {background-color: #d4ebff;}#sk-container-id-4 div.sk-label input.sk-toggleable__control:checked~label.sk-toggleable__label {background-color: #d4ebff;}#sk-container-id-4 input.sk-hidden--visually {border: 0;clip: rect(1px 1px 1px 1px);clip: rect(1px, 1px, 1px, 1px);height: 1px;margin: -1px;overflow: hidden;padding: 0;position: absolute;width: 1px;}#sk-container-id-4 div.sk-estimator {font-family: monospace;background-color: #f0f8ff;border: 1px dotted black;border-radius: 0.25em;box-sizing: border-box;margin-bottom: 0.5em;}#sk-container-id-4 div.sk-estimator:hover {background-color: #d4ebff;}#sk-container-id-4 div.sk-parallel-item::after {content: \"\";width: 100%;border-bottom: 1px solid gray;flex-grow: 1;}#sk-container-id-4 div.sk-label:hover label.sk-toggleable__label {background-color: #d4ebff;}#sk-container-id-4 div.sk-serial::before {content: \"\";position: absolute;border-left: 1px solid gray;box-sizing: border-box;top: 0;bottom: 0;left: 50%;z-index: 0;}#sk-container-id-4 div.sk-serial {display: flex;flex-direction: column;align-items: center;background-color: white;padding-right: 0.2em;padding-left: 0.2em;position: relative;}#sk-container-id-4 div.sk-item {position: relative;z-index: 1;}#sk-container-id-4 div.sk-parallel {display: flex;align-items: stretch;justify-content: center;background-color: white;position: relative;}#sk-container-id-4 div.sk-item::before, #sk-container-id-4 div.sk-parallel-item::before {content: \"\";position: absolute;border-left: 1px solid gray;box-sizing: border-box;top: 0;bottom: 0;left: 50%;z-index: -1;}#sk-container-id-4 div.sk-parallel-item {display: flex;flex-direction: column;z-index: 1;position: relative;background-color: white;}#sk-container-id-4 div.sk-parallel-item:first-child::after {align-self: flex-end;width: 50%;}#sk-container-id-4 div.sk-parallel-item:last-child::after {align-self: flex-start;width: 50%;}#sk-container-id-4 div.sk-parallel-item:only-child::after {width: 0;}#sk-container-id-4 div.sk-dashed-wrapped {border: 1px dashed gray;margin: 0 0.4em 0.5em 0.4em;box-sizing: border-box;padding-bottom: 0.4em;background-color: white;}#sk-container-id-4 div.sk-label label {font-family: monospace;font-weight: bold;display: inline-block;line-height: 1.2em;}#sk-container-id-4 div.sk-label-container {text-align: center;}#sk-container-id-4 div.sk-container {/* jupyter's `normalize.less` sets `[hidden] { display: none; }` but bootstrap.min.css set `[hidden] { display: none !important; }` so we also need the `!important` here to be able to override the default hidden behavior on the sphinx rendered scikit-learn.org. See: https://github.com/scikit-learn/scikit-learn/issues/21755 */display: inline-block !important;position: relative;}#sk-container-id-4 div.sk-text-repr-fallback {display: none;}</style><div id=\"sk-container-id-4\" class=\"sk-top-container\"><div class=\"sk-text-repr-fallback\"><pre>RandomizedSearchCV(cv=3,\n",
       "                   estimator=HistGradientBoostingClassifier(categorical_features=[&#x27;pay_1&#x27;,\n",
       "                                                                                  &#x27;pay_2&#x27;,\n",
       "                                                                                  &#x27;pay_3&#x27;,\n",
       "                                                                                  &#x27;pay_4&#x27;,\n",
       "                                                                                  &#x27;pay_5&#x27;,\n",
       "                                                                                  &#x27;pay_6&#x27;],\n",
       "                                                            random_state=1),\n",
       "                   n_iter=30,\n",
       "                   param_distributions={&#x27;class_weight&#x27;: [&#x27;balanced&#x27;],\n",
       "                                        &#x27;early_stopping&#x27;: [True],\n",
       "                                        &#x27;l2_regularization&#x27;: [0, 0.001, 0.0001,\n",
       "                                                              0.0001],\n",
       "                                        &#x27;learning_rate&#x27;: [0.1, 0.01, 0.001,\n",
       "                                                          0.05, 0.025],\n",
       "                                        &#x27;max_depth&#x27;: [None, 6, 8, 10, 12, 15,\n",
       "                                                      20],\n",
       "                                        &#x27;max_iter&#x27;: [100, 200],\n",
       "                                        &#x27;n_iter_no_change&#x27;: [10],\n",
       "                                        &#x27;validation_fraction&#x27;: [0.2]},\n",
       "                   random_state=1, scoring=&#x27;recall&#x27;, verbose=True)</pre><b>In a Jupyter environment, please rerun this cell to show the HTML representation or trust the notebook. <br />On GitHub, the HTML representation is unable to render, please try loading this page with nbviewer.org.</b></div><div class=\"sk-container\" hidden><div class=\"sk-item sk-dashed-wrapped\"><div class=\"sk-label-container\"><div class=\"sk-label sk-toggleable\"><input class=\"sk-toggleable__control sk-hidden--visually\" id=\"sk-estimator-id-10\" type=\"checkbox\" ><label for=\"sk-estimator-id-10\" class=\"sk-toggleable__label sk-toggleable__label-arrow\">RandomizedSearchCV</label><div class=\"sk-toggleable__content\"><pre>RandomizedSearchCV(cv=3,\n",
       "                   estimator=HistGradientBoostingClassifier(categorical_features=[&#x27;pay_1&#x27;,\n",
       "                                                                                  &#x27;pay_2&#x27;,\n",
       "                                                                                  &#x27;pay_3&#x27;,\n",
       "                                                                                  &#x27;pay_4&#x27;,\n",
       "                                                                                  &#x27;pay_5&#x27;,\n",
       "                                                                                  &#x27;pay_6&#x27;],\n",
       "                                                            random_state=1),\n",
       "                   n_iter=30,\n",
       "                   param_distributions={&#x27;class_weight&#x27;: [&#x27;balanced&#x27;],\n",
       "                                        &#x27;early_stopping&#x27;: [True],\n",
       "                                        &#x27;l2_regularization&#x27;: [0, 0.001, 0.0001,\n",
       "                                                              0.0001],\n",
       "                                        &#x27;learning_rate&#x27;: [0.1, 0.01, 0.001,\n",
       "                                                          0.05, 0.025],\n",
       "                                        &#x27;max_depth&#x27;: [None, 6, 8, 10, 12, 15,\n",
       "                                                      20],\n",
       "                                        &#x27;max_iter&#x27;: [100, 200],\n",
       "                                        &#x27;n_iter_no_change&#x27;: [10],\n",
       "                                        &#x27;validation_fraction&#x27;: [0.2]},\n",
       "                   random_state=1, scoring=&#x27;recall&#x27;, verbose=True)</pre></div></div></div><div class=\"sk-parallel\"><div class=\"sk-parallel-item\"><div class=\"sk-item\"><div class=\"sk-label-container\"><div class=\"sk-label sk-toggleable\"><input class=\"sk-toggleable__control sk-hidden--visually\" id=\"sk-estimator-id-11\" type=\"checkbox\" ><label for=\"sk-estimator-id-11\" class=\"sk-toggleable__label sk-toggleable__label-arrow\">estimator: HistGradientBoostingClassifier</label><div class=\"sk-toggleable__content\"><pre>HistGradientBoostingClassifier(categorical_features=[&#x27;pay_1&#x27;, &#x27;pay_2&#x27;, &#x27;pay_3&#x27;,\n",
       "                                                     &#x27;pay_4&#x27;, &#x27;pay_5&#x27;,\n",
       "                                                     &#x27;pay_6&#x27;],\n",
       "                               random_state=1)</pre></div></div></div><div class=\"sk-serial\"><div class=\"sk-item\"><div class=\"sk-estimator sk-toggleable\"><input class=\"sk-toggleable__control sk-hidden--visually\" id=\"sk-estimator-id-12\" type=\"checkbox\" ><label for=\"sk-estimator-id-12\" class=\"sk-toggleable__label sk-toggleable__label-arrow\">HistGradientBoostingClassifier</label><div class=\"sk-toggleable__content\"><pre>HistGradientBoostingClassifier(categorical_features=[&#x27;pay_1&#x27;, &#x27;pay_2&#x27;, &#x27;pay_3&#x27;,\n",
       "                                                     &#x27;pay_4&#x27;, &#x27;pay_5&#x27;,\n",
       "                                                     &#x27;pay_6&#x27;],\n",
       "                               random_state=1)</pre></div></div></div></div></div></div></div></div></div></div>"
      ],
      "text/plain": [
       "RandomizedSearchCV(cv=3,\n",
       "                   estimator=HistGradientBoostingClassifier(categorical_features=['pay_1',\n",
       "                                                                                  'pay_2',\n",
       "                                                                                  'pay_3',\n",
       "                                                                                  'pay_4',\n",
       "                                                                                  'pay_5',\n",
       "                                                                                  'pay_6'],\n",
       "                                                            random_state=1),\n",
       "                   n_iter=30,\n",
       "                   param_distributions={'class_weight': ['balanced'],\n",
       "                                        'early_stopping': [True],\n",
       "                                        'l2_regularization': [0, 0.001, 0.0001,\n",
       "                                                              0.0001],\n",
       "                                        'learning_rate': [0.1, 0.01, 0.001,\n",
       "                                                          0.05, 0.025],\n",
       "                                        'max_depth': [None, 6, 8, 10, 12, 15,\n",
       "                                                      20],\n",
       "                                        'max_iter': [100, 200],\n",
       "                                        'n_iter_no_change': [10],\n",
       "                                        'validation_fraction': [0.2]},\n",
       "                   random_state=1, scoring='recall', verbose=True)"
      ]
     },
     "execution_count": 118,
     "metadata": {},
     "output_type": "execute_result"
    }
   ],
   "source": [
    "# HistGradientBoosting\n",
    "params = {\n",
    "    \"max_iter\": [100, 200],\n",
    "    \"max_depth\": [None, 6, 8, 10, 12, 15, 20],\n",
    "    \"l2_regularization\": [0, 0.001, 0.0001, 0.0001],\n",
    "    \"learning_rate\": [0.1, 0.01, 0.001, 0.05, 0.025,],\n",
    "    \"early_stopping\": [True],\n",
    "    \"n_iter_no_change\": [10],\n",
    "    \"validation_fraction\": [0.2],\n",
    "    \"class_weight\": [\"balanced\"]\n",
    "}\n",
    "\n",
    "hgbc = HistGradientBoostingClassifier(\n",
    "    categorical_features=['pay_1', 'pay_2', 'pay_3', 'pay_4', 'pay_5', 'pay_6'],\n",
    "    random_state=seed\n",
    ")\n",
    "\n",
    "search = RandomizedSearchCV(\n",
    "    hgbc,\n",
    "    params,\n",
    "    n_iter=30,\n",
    "    cv=3,\n",
    "    refit=True,\n",
    "    verbose=True,\n",
    "    random_state=seed,\n",
    "    scoring=\"f1\"\n",
    ")\n",
    "\n",
    "search.fit(X_train, y_train)"
   ]
  },
  {
   "cell_type": "code",
   "execution_count": 119,
   "id": "4072481c",
   "metadata": {},
   "outputs": [
    {
     "name": "stdout",
     "output_type": "stream",
     "text": [
      "val recall = 0.5843659241687977\n",
      "best_params = {'validation_fraction': 0.2, 'n_iter_no_change': 10, 'max_iter': 200, 'max_depth': 12, 'learning_rate': 0.001, 'l2_regularization': 0.001, 'early_stopping': True, 'class_weight': 'balanced'}\n"
     ]
    }
   ],
   "source": [
    "best_hgbc = search.best_estimator_\n",
    "\n",
    "print(f'val recall = {search.best_score_}')\n",
    "print(f'best_params = {search.best_params_}')"
   ]
  },
  {
   "cell_type": "code",
   "execution_count": 120,
   "id": "c8f1c375",
   "metadata": {},
   "outputs": [
    {
     "name": "stdout",
     "output_type": "stream",
     "text": [
      "Train dataset: \n",
      "f1_score - 0.52 \n",
      "               precision    recall  f1-score   support\n",
      "\n",
      "           0       0.88      0.76      0.82     16354\n",
      "           1       0.43      0.64      0.52      4646\n",
      "\n",
      "    accuracy                           0.74     21000\n",
      "   macro avg       0.66      0.70      0.67     21000\n",
      "weighted avg       0.78      0.74      0.75     21000\n",
      "\n",
      "\n",
      "Val dataset: \n",
      "f1_score - 0.52 \n",
      "               precision    recall  f1-score   support\n",
      "\n",
      "           0       0.88      0.77      0.82      3505\n",
      "           1       0.44      0.63      0.52       995\n",
      "\n",
      "    accuracy                           0.74      4500\n",
      "   macro avg       0.66      0.70      0.67      4500\n",
      "weighted avg       0.78      0.74      0.76      4500\n",
      "\n"
     ]
    }
   ],
   "source": [
    "train_preds, val_preds = best_hgbc.predict(X_train), best_hgbc.predict(X_val)\n",
    "\n",
    "print(\"Train dataset: \\nf1_score -\", round(f1_score(y_train, train_preds), 2), \"\\n\", classification_report(y_train, train_preds))\n",
    "print()\n",
    "print(\"Val dataset: \\nf1_score -\", round(f1_score(y_val, val_preds), 2), \"\\n\", classification_report(y_val, val_preds))"
   ]
  },
  {
   "cell_type": "code",
   "execution_count": 124,
   "id": "45185e78",
   "metadata": {},
   "outputs": [
    {
     "name": "stdout",
     "output_type": "stream",
     "text": [
      "Fitting 3 folds for each of 30 candidates, totalling 90 fits\n"
     ]
    },
    {
     "data": {
      "text/html": [
       "<style>#sk-container-id-6 {color: black;}#sk-container-id-6 pre{padding: 0;}#sk-container-id-6 div.sk-toggleable {background-color: white;}#sk-container-id-6 label.sk-toggleable__label {cursor: pointer;display: block;width: 100%;margin-bottom: 0;padding: 0.3em;box-sizing: border-box;text-align: center;}#sk-container-id-6 label.sk-toggleable__label-arrow:before {content: \"▸\";float: left;margin-right: 0.25em;color: #696969;}#sk-container-id-6 label.sk-toggleable__label-arrow:hover:before {color: black;}#sk-container-id-6 div.sk-estimator:hover label.sk-toggleable__label-arrow:before {color: black;}#sk-container-id-6 div.sk-toggleable__content {max-height: 0;max-width: 0;overflow: hidden;text-align: left;background-color: #f0f8ff;}#sk-container-id-6 div.sk-toggleable__content pre {margin: 0.2em;color: black;border-radius: 0.25em;background-color: #f0f8ff;}#sk-container-id-6 input.sk-toggleable__control:checked~div.sk-toggleable__content {max-height: 200px;max-width: 100%;overflow: auto;}#sk-container-id-6 input.sk-toggleable__control:checked~label.sk-toggleable__label-arrow:before {content: \"▾\";}#sk-container-id-6 div.sk-estimator input.sk-toggleable__control:checked~label.sk-toggleable__label {background-color: #d4ebff;}#sk-container-id-6 div.sk-label input.sk-toggleable__control:checked~label.sk-toggleable__label {background-color: #d4ebff;}#sk-container-id-6 input.sk-hidden--visually {border: 0;clip: rect(1px 1px 1px 1px);clip: rect(1px, 1px, 1px, 1px);height: 1px;margin: -1px;overflow: hidden;padding: 0;position: absolute;width: 1px;}#sk-container-id-6 div.sk-estimator {font-family: monospace;background-color: #f0f8ff;border: 1px dotted black;border-radius: 0.25em;box-sizing: border-box;margin-bottom: 0.5em;}#sk-container-id-6 div.sk-estimator:hover {background-color: #d4ebff;}#sk-container-id-6 div.sk-parallel-item::after {content: \"\";width: 100%;border-bottom: 1px solid gray;flex-grow: 1;}#sk-container-id-6 div.sk-label:hover label.sk-toggleable__label {background-color: #d4ebff;}#sk-container-id-6 div.sk-serial::before {content: \"\";position: absolute;border-left: 1px solid gray;box-sizing: border-box;top: 0;bottom: 0;left: 50%;z-index: 0;}#sk-container-id-6 div.sk-serial {display: flex;flex-direction: column;align-items: center;background-color: white;padding-right: 0.2em;padding-left: 0.2em;position: relative;}#sk-container-id-6 div.sk-item {position: relative;z-index: 1;}#sk-container-id-6 div.sk-parallel {display: flex;align-items: stretch;justify-content: center;background-color: white;position: relative;}#sk-container-id-6 div.sk-item::before, #sk-container-id-6 div.sk-parallel-item::before {content: \"\";position: absolute;border-left: 1px solid gray;box-sizing: border-box;top: 0;bottom: 0;left: 50%;z-index: -1;}#sk-container-id-6 div.sk-parallel-item {display: flex;flex-direction: column;z-index: 1;position: relative;background-color: white;}#sk-container-id-6 div.sk-parallel-item:first-child::after {align-self: flex-end;width: 50%;}#sk-container-id-6 div.sk-parallel-item:last-child::after {align-self: flex-start;width: 50%;}#sk-container-id-6 div.sk-parallel-item:only-child::after {width: 0;}#sk-container-id-6 div.sk-dashed-wrapped {border: 1px dashed gray;margin: 0 0.4em 0.5em 0.4em;box-sizing: border-box;padding-bottom: 0.4em;background-color: white;}#sk-container-id-6 div.sk-label label {font-family: monospace;font-weight: bold;display: inline-block;line-height: 1.2em;}#sk-container-id-6 div.sk-label-container {text-align: center;}#sk-container-id-6 div.sk-container {/* jupyter's `normalize.less` sets `[hidden] { display: none; }` but bootstrap.min.css set `[hidden] { display: none !important; }` so we also need the `!important` here to be able to override the default hidden behavior on the sphinx rendered scikit-learn.org. See: https://github.com/scikit-learn/scikit-learn/issues/21755 */display: inline-block !important;position: relative;}#sk-container-id-6 div.sk-text-repr-fallback {display: none;}</style><div id=\"sk-container-id-6\" class=\"sk-top-container\"><div class=\"sk-text-repr-fallback\"><pre>RandomizedSearchCV(cv=3, estimator=RandomForestClassifier(random_state=1),\n",
       "                   n_iter=30,\n",
       "                   param_distributions={&#x27;ccp_alpha&#x27;: [0.0, 0.005, 0.01, 0.015,\n",
       "                                                      0.02],\n",
       "                                        &#x27;class_weight&#x27;: [&#x27;balanced&#x27;],\n",
       "                                        &#x27;criterion&#x27;: [&#x27;log_loss&#x27;, &#x27;gini&#x27;,\n",
       "                                                      &#x27;entropy&#x27;],\n",
       "                                        &#x27;max_depth&#x27;: [None, 6, 8, 10, 12],\n",
       "                                        &#x27;max_features&#x27;: [1.0],\n",
       "                                        &#x27;max_samples&#x27;: [0.8, 0.999],\n",
       "                                        &#x27;min_impurity_decrease&#x27;: [0, 0.1, 0.01],\n",
       "                                        &#x27;min_samples_split&#x27;: [2, 5, 10, 20],\n",
       "                                        &#x27;n_estimators&#x27;: [50, 75, 100, 125]},\n",
       "                   random_state=1, scoring=&#x27;f1&#x27;, verbose=True)</pre><b>In a Jupyter environment, please rerun this cell to show the HTML representation or trust the notebook. <br />On GitHub, the HTML representation is unable to render, please try loading this page with nbviewer.org.</b></div><div class=\"sk-container\" hidden><div class=\"sk-item sk-dashed-wrapped\"><div class=\"sk-label-container\"><div class=\"sk-label sk-toggleable\"><input class=\"sk-toggleable__control sk-hidden--visually\" id=\"sk-estimator-id-16\" type=\"checkbox\" ><label for=\"sk-estimator-id-16\" class=\"sk-toggleable__label sk-toggleable__label-arrow\">RandomizedSearchCV</label><div class=\"sk-toggleable__content\"><pre>RandomizedSearchCV(cv=3, estimator=RandomForestClassifier(random_state=1),\n",
       "                   n_iter=30,\n",
       "                   param_distributions={&#x27;ccp_alpha&#x27;: [0.0, 0.005, 0.01, 0.015,\n",
       "                                                      0.02],\n",
       "                                        &#x27;class_weight&#x27;: [&#x27;balanced&#x27;],\n",
       "                                        &#x27;criterion&#x27;: [&#x27;log_loss&#x27;, &#x27;gini&#x27;,\n",
       "                                                      &#x27;entropy&#x27;],\n",
       "                                        &#x27;max_depth&#x27;: [None, 6, 8, 10, 12],\n",
       "                                        &#x27;max_features&#x27;: [1.0],\n",
       "                                        &#x27;max_samples&#x27;: [0.8, 0.999],\n",
       "                                        &#x27;min_impurity_decrease&#x27;: [0, 0.1, 0.01],\n",
       "                                        &#x27;min_samples_split&#x27;: [2, 5, 10, 20],\n",
       "                                        &#x27;n_estimators&#x27;: [50, 75, 100, 125]},\n",
       "                   random_state=1, scoring=&#x27;f1&#x27;, verbose=True)</pre></div></div></div><div class=\"sk-parallel\"><div class=\"sk-parallel-item\"><div class=\"sk-item\"><div class=\"sk-label-container\"><div class=\"sk-label sk-toggleable\"><input class=\"sk-toggleable__control sk-hidden--visually\" id=\"sk-estimator-id-17\" type=\"checkbox\" ><label for=\"sk-estimator-id-17\" class=\"sk-toggleable__label sk-toggleable__label-arrow\">estimator: RandomForestClassifier</label><div class=\"sk-toggleable__content\"><pre>RandomForestClassifier(random_state=1)</pre></div></div></div><div class=\"sk-serial\"><div class=\"sk-item\"><div class=\"sk-estimator sk-toggleable\"><input class=\"sk-toggleable__control sk-hidden--visually\" id=\"sk-estimator-id-18\" type=\"checkbox\" ><label for=\"sk-estimator-id-18\" class=\"sk-toggleable__label sk-toggleable__label-arrow\">RandomForestClassifier</label><div class=\"sk-toggleable__content\"><pre>RandomForestClassifier(random_state=1)</pre></div></div></div></div></div></div></div></div></div></div>"
      ],
      "text/plain": [
       "RandomizedSearchCV(cv=3, estimator=RandomForestClassifier(random_state=1),\n",
       "                   n_iter=30,\n",
       "                   param_distributions={'ccp_alpha': [0.0, 0.005, 0.01, 0.015,\n",
       "                                                      0.02],\n",
       "                                        'class_weight': ['balanced'],\n",
       "                                        'criterion': ['log_loss', 'gini',\n",
       "                                                      'entropy'],\n",
       "                                        'max_depth': [None, 6, 8, 10, 12],\n",
       "                                        'max_features': [1.0],\n",
       "                                        'max_samples': [0.8, 0.999],\n",
       "                                        'min_impurity_decrease': [0, 0.1, 0.01],\n",
       "                                        'min_samples_split': [2, 5, 10, 20],\n",
       "                                        'n_estimators': [50, 75, 100, 125]},\n",
       "                   random_state=1, scoring='f1', verbose=True)"
      ]
     },
     "execution_count": 124,
     "metadata": {},
     "output_type": "execute_result"
    }
   ],
   "source": [
    "# Random Forest\n",
    "params = {\n",
    "    \"criterion\": [\"log_loss\", \"gini\", \"entropy\"],\n",
    "    \"n_estimators\": [50, 75, 100, 125],\n",
    "    \"min_samples_split\": [2, 5, 10, 20],\n",
    "    \"min_impurity_decrease\": [0, 0.1, 0.01],\n",
    "    \"max_depth\": [None, 6, 8, 10, 12],\n",
    "    \"max_features\": [1.0],\n",
    "    \"max_samples\": [0.8, 0.999],\n",
    "    \"ccp_alpha\": [0.0, 0.005, 0.01, 0.015, 0.02],\n",
    "    \"class_weight\": [\"balanced\"]\n",
    "}\n",
    "\n",
    "rfc = RandomForestClassifier(\n",
    "    random_state=seed\n",
    ")\n",
    "\n",
    "search = RandomizedSearchCV(\n",
    "    rfc,\n",
    "    params,\n",
    "    n_iter=30,\n",
    "    cv=3,\n",
    "    refit=True,\n",
    "    verbose=True,\n",
    "    random_state=seed,\n",
    "    scoring=\"f1\"\n",
    ")\n",
    "\n",
    "search.fit(X_train, y_train)"
   ]
  },
  {
   "cell_type": "code",
   "execution_count": 125,
   "id": "05fe094f",
   "metadata": {},
   "outputs": [
    {
     "name": "stdout",
     "output_type": "stream",
     "text": [
      "val recall = 0.5317837959287951\n",
      "best_params = {'n_estimators': 50, 'min_samples_split': 20, 'min_impurity_decrease': 0, 'max_samples': 0.999, 'max_features': 1.0, 'max_depth': 8, 'criterion': 'log_loss', 'class_weight': 'balanced', 'ccp_alpha': 0.0}\n"
     ]
    }
   ],
   "source": [
    "best_rfc = search.best_estimator_\n",
    "\n",
    "print(f'val recall = {search.best_score_}')\n",
    "print(f'best_params = {search.best_params_}')"
   ]
  },
  {
   "cell_type": "code",
   "execution_count": 126,
   "id": "80c9399e",
   "metadata": {},
   "outputs": [
    {
     "name": "stdout",
     "output_type": "stream",
     "text": [
      "Train dataset: \n",
      "f1_score - 0.59 \n",
      "               precision    recall  f1-score   support\n",
      "\n",
      "           0       0.89      0.84      0.87     16354\n",
      "           1       0.54      0.64      0.59      4646\n",
      "\n",
      "    accuracy                           0.80     21000\n",
      "   macro avg       0.72      0.74      0.73     21000\n",
      "weighted avg       0.81      0.80      0.81     21000\n",
      "\n",
      "\n",
      "Val dataset: \n",
      "f1_score - 0.54 \n",
      "               precision    recall  f1-score   support\n",
      "\n",
      "           0       0.87      0.84      0.86      3505\n",
      "           1       0.51      0.58      0.54       995\n",
      "\n",
      "    accuracy                           0.78      4500\n",
      "   macro avg       0.69      0.71      0.70      4500\n",
      "weighted avg       0.79      0.78      0.79      4500\n",
      "\n"
     ]
    }
   ],
   "source": [
    "train_preds, val_preds = best_rfc.predict(X_train), best_rfc.predict(X_val)\n",
    "\n",
    "print(\"Train dataset: \\nf1_score -\", round(f1_score(y_train, train_preds), 2), \"\\n\", classification_report(y_train, train_preds))\n",
    "print()\n",
    "print(\"Val dataset: \\nf1_score -\", round(f1_score(y_val, val_preds), 2), \"\\n\", classification_report(y_val, val_preds))"
   ]
  },
  {
   "cell_type": "markdown",
   "id": "a578a09c",
   "metadata": {},
   "source": [
    "ROC, precision-recall and calibration curves:"
   ]
  },
  {
   "cell_type": "code",
   "execution_count": 252,
   "id": "e74ee287",
   "metadata": {},
   "outputs": [
    {
     "data": {
      "image/png": "[encoded data removed]",
      "text/plain": [
       "<Figure size 640x480 with 1 Axes>"
      ]
     },
     "metadata": {},
     "output_type": "display_data"
    }
   ],
   "source": [
    "models = [\n",
    "    (\"RF_tuned\", best_rfc),\n",
    "    (\"HGB_tuned\", best_hgbc),\n",
    "     \n",
    "]\n",
    "\n",
    "X_train, y_train = models_trainer.X_train, models_trainer.y_train\n",
    "X_val, y_val = models_trainer.X_val, models_trainer.y_val\n",
    "X_test, y_test = models_trainer.X_test, models_trainer.y_test\n",
    "\n",
    "fig, ax = plt.subplots()\n",
    "model_displays = {}\n",
    "for name, pipeline in models:\n",
    "    model_displays[name] = RocCurveDisplay.from_estimator(\n",
    "        pipeline, X_val, y_val, ax=ax, name=name\n",
    "    )\n",
    "_ = ax.set_title(\"ROC curves\")"
   ]
  },
  {
   "cell_type": "code",
   "execution_count": 253,
   "id": "fa055ee6",
   "metadata": {},
   "outputs": [
    {
     "data": {
      "image/png": "[encoded data removed]",
      "text/plain": [
       "<Figure size 640x480 with 1 Axes>"
      ]
     },
     "metadata": {},
     "output_type": "display_data"
    }
   ],
   "source": [
    "fig, ax = plt.subplots()\n",
    "model_displays = {}\n",
    "for name, pipeline in models:\n",
    "    model_displays[name] = PrecisionRecallDisplay.from_estimator(\n",
    "        pipeline, X_val, y_val, ax=ax, name=name\n",
    "    )\n",
    "_ = ax.set_title(\"Precision-Recall curves\")"
   ]
  },
  {
   "cell_type": "code",
   "execution_count": 254,
   "id": "62021e02",
   "metadata": {},
   "outputs": [
    {
     "data": {
      "image/png": "[encoded data removed]",
      "text/plain": [
       "<Figure size 640x480 with 1 Axes>"
      ]
     },
     "metadata": {},
     "output_type": "display_data"
    }
   ],
   "source": [
    "# Calibration curves:\n",
    "fig, ax = plt.subplots()\n",
    "model_displays = {}\n",
    "for name, pipeline in models:\n",
    "    model_displays[name] = CalibrationDisplay.from_estimator(\n",
    "        pipeline, X_val, y_val, ax=ax, name=name\n",
    "    )\n",
    "_ = ax.set_title(\"Calibration curves\")"
   ]
  },
  {
   "cell_type": "markdown",
   "id": "232c0bf5",
   "metadata": {},
   "source": [
    "Optimal threshold tuning:"
   ]
  },
  {
   "cell_type": "code",
   "execution_count": 130,
   "id": "f9d4cc61",
   "metadata": {},
   "outputs": [
    {
     "name": "stdout",
     "output_type": "stream",
     "text": [
      "\n",
      "Searching best threshold for HGB_tuned\n",
      "Threshold=0.500, F-Score=0.52\n",
      "\n",
      "Searching best threshold for RF_tuned\n",
      "Threshold=0.480, F-Score=0.54\n"
     ]
    }
   ],
   "source": [
    "for m in models:\n",
    "    print(f\"\\nSearching best threshold for {m[0]}\")\n",
    "    model = m[1]\n",
    "    preds = model.predict_proba(X_val)\n",
    "    # keep probabilities for the positive outcome only\n",
    "    probs = preds[:, 1]\n",
    "    \n",
    "    # define thresholds\n",
    "    thresholds = np.arange(0, 1, 0.01)\n",
    "    \n",
    "    # evaluate each threshold\n",
    "    scores = [f1_score(y_val, to_labels(probs, t)) for t in thresholds]\n",
    "    \n",
    "    # get best threshold\n",
    "    ix = np.argmax(scores)\n",
    "    print('Threshold=%.3f, F-Score=%.2f' % (thresholds[ix], scores[ix]))"
   ]
  },
  {
   "cell_type": "markdown",
   "id": "d60f78f9",
   "metadata": {},
   "source": []
  },
  {
   "cell_type": "markdown",
   "id": "459ee5f4",
   "metadata": {},
   "source": [
    "### Modeling - Final Iterations and Calculation of Test Score"
   ]
  },
  {
   "cell_type": "code",
   "execution_count": 274,
   "id": "9f838dc5",
   "metadata": {},
   "outputs": [
    {
     "data": {
      "text/plain": [
       "Index(['limit_bal', 'pay_1', 'pay_2', 'pay_3', 'pay_4', 'pay_5', 'pay_6',\n",
       "       'bill_amt1', 'bill_amt2', 'bill_amt4', 'pay_amt1', 'pay_amt2',\n",
       "       'pay_amt3', 'num_overpays', 'total_payment', 'payment_delay_amt1',\n",
       "       'payment_delay_amt2'],\n",
       "      dtype='object')"
      ]
     },
     "execution_count": 274,
     "metadata": {},
     "output_type": "execute_result"
    }
   ],
   "source": [
    "X_train, y_train = models_trainer.X_train, models_trainer.y_train\n",
    "X_val, y_val = models_trainer.X_val, models_trainer.y_val\n",
    "X_test, y_test = models_trainer.X_test, models_trainer.y_test\n",
    "\n",
    "X_train.columns"
   ]
  },
  {
   "cell_type": "code",
   "execution_count": 275,
   "id": "fccabdb3",
   "metadata": {},
   "outputs": [
    {
     "name": "stdout",
     "output_type": "stream",
     "text": [
      "25500\n"
     ]
    }
   ],
   "source": [
    "final_models_trainer = ModelTrainer(X_train, y_train, X_val, y_val, X_test, y_test, seed)\n",
    "\n",
    "# Extend X_train with X_val\n",
    "X_train_extended = pd.concat([X_train, X_val], axis=0, ignore_index=True)\n",
    "# Concatenate y_train with y_val\n",
    "y_train_extended = pd.concat([y_train, y_val], axis=0, ignore_index=True)\n",
    "\n",
    "final_models_trainer.X_train = X_train_extended\n",
    "final_models_trainer.y_train = y_train_extended\n",
    "\n",
    "print(len(X_train_extended))"
   ]
  },
  {
   "cell_type": "code",
   "execution_count": 276,
   "id": "9a9df124",
   "metadata": {},
   "outputs": [],
   "source": [
    "final_rfc = RandomForestClassifier(\n",
    "    n_estimators=50,\n",
    "    min_samples_split=20,\n",
    "    max_depth=8,\n",
    "    criterion=\"log_loss\",\n",
    "    class_weight=\"balanced\",\n",
    "    ccp_alpha=0.0,\n",
    "    random_state=seed\n",
    ")\n",
    "\n",
    "final_hgbc = HistGradientBoostingClassifier(\n",
    "    validation_fraction=0.2,\n",
    "    n_iter_no_change=10,\n",
    "    max_iter=200,\n",
    "    max_depth=12,\n",
    "    learning_rate=0.001,\n",
    "    l2_regularization=0.001,\n",
    "    early_stopping=True,\n",
    "    class_weight=\"balanced\",\n",
    "    random_state=seed\n",
    ")"
   ]
  },
  {
   "cell_type": "code",
   "execution_count": 277,
   "id": "454576bd",
   "metadata": {},
   "outputs": [
    {
     "name": "stdout",
     "output_type": "stream",
     "text": [
      "\t#### RF_TUNED RESULTS ####\n",
      "Train scores:\n",
      "              precision    recall  f1-score   support\n",
      "\n",
      "           0       0.89      0.84      0.86     19859\n",
      "           1       0.53      0.64      0.58      5641\n",
      "\n",
      "    accuracy                           0.79     25500\n",
      "   macro avg       0.71      0.74      0.72     25500\n",
      "weighted avg       0.81      0.79      0.80     25500\n",
      "\n",
      "Test scores:\n",
      "              precision    recall  f1-score   support\n",
      "\n",
      "           0       0.88      0.83      0.85      3505\n",
      "           1       0.49      0.59      0.54       995\n",
      "\n",
      "    accuracy                           0.77      4500\n",
      "   macro avg       0.68      0.71      0.69      4500\n",
      "weighted avg       0.79      0.77      0.78      4500\n",
      "\n"
     ]
    },
    {
     "data": {
      "text/plain": [
       "{'test_f1_score': 0.54,\n",
       " 'test_recall_score': 0.59,\n",
       " 'test_precision_score': 0.49,\n",
       " 'test_balanced_accuracy_score': 0.71,\n",
       " 'train_f1_score': 0.58,\n",
       " 'train_recall_score': 0.64,\n",
       " 'train_precision_score': 0.53,\n",
       " 'train_balanced_accuracy_score': 0.74}"
      ]
     },
     "execution_count": 277,
     "metadata": {},
     "output_type": "execute_result"
    }
   ],
   "source": [
    "final_models_trainer.train_classifier(classifier=final_rfc, classifier_name=\"RF_tuned\")\n",
    "\n",
    "final_models_trainer.evaluate_classifier(\n",
    "    classifier_name=\"RF_tuned\", \n",
    "    store_results=True, \n",
    "    print_classification_report=True,\n",
    "    use_val_set=False,\n",
    "    use_test_set=True,\n",
    ")"
   ]
  },
  {
   "cell_type": "code",
   "execution_count": 278,
   "id": "d2739501",
   "metadata": {},
   "outputs": [
    {
     "name": "stdout",
     "output_type": "stream",
     "text": [
      "\t#### HGB_TUNED RESULTS ####\n",
      "Train scores:\n",
      "              precision    recall  f1-score   support\n",
      "\n",
      "           0       0.88      0.83      0.85     19859\n",
      "           1       0.50      0.61      0.55      5641\n",
      "\n",
      "    accuracy                           0.78     25500\n",
      "   macro avg       0.69      0.72      0.70     25500\n",
      "weighted avg       0.80      0.78      0.79     25500\n",
      "\n",
      "Test scores:\n",
      "              precision    recall  f1-score   support\n",
      "\n",
      "           0       0.88      0.83      0.85      3505\n",
      "           1       0.49      0.58      0.53       995\n",
      "\n",
      "    accuracy                           0.77      4500\n",
      "   macro avg       0.68      0.71      0.69      4500\n",
      "weighted avg       0.79      0.77      0.78      4500\n",
      "\n"
     ]
    },
    {
     "data": {
      "text/plain": [
       "{'test_f1_score': 0.53,\n",
       " 'test_recall_score': 0.58,\n",
       " 'test_precision_score': 0.49,\n",
       " 'test_balanced_accuracy_score': 0.71,\n",
       " 'train_f1_score': 0.55,\n",
       " 'train_recall_score': 0.61,\n",
       " 'train_precision_score': 0.5,\n",
       " 'train_balanced_accuracy_score': 0.72}"
      ]
     },
     "execution_count": 278,
     "metadata": {},
     "output_type": "execute_result"
    }
   ],
   "source": [
    "final_models_trainer.train_classifier(classifier=final_hgbc, classifier_name=\"HGB_tuned\")\n",
    "\n",
    "final_models_trainer.evaluate_classifier(\n",
    "    classifier_name=\"HGB_tuned\", \n",
    "    store_results=True, \n",
    "    print_classification_report=True,\n",
    "    use_val_set=False,\n",
    "    use_test_set=True,\n",
    ")"
   ]
  },
  {
   "cell_type": "code",
   "execution_count": 279,
   "id": "1aca75eb",
   "metadata": {},
   "outputs": [
    {
     "data": {
      "text/html": [
       "<div>\n",
       "<style scoped>\n",
       "    .dataframe tbody tr th:only-of-type {\n",
       "        vertical-align: middle;\n",
       "    }\n",
       "\n",
       "    .dataframe tbody tr th {\n",
       "        vertical-align: top;\n",
       "    }\n",
       "\n",
       "    .dataframe thead th {\n",
       "        text-align: right;\n",
       "    }\n",
       "</style>\n",
       "<table border=\"1\" class=\"dataframe\">\n",
       "  <thead>\n",
       "    <tr style=\"text-align: right;\">\n",
       "      <th></th>\n",
       "      <th>RF_tuned</th>\n",
       "      <th>HGB_tuned</th>\n",
       "    </tr>\n",
       "  </thead>\n",
       "  <tbody>\n",
       "    <tr>\n",
       "      <th>test_f1_score</th>\n",
       "      <td>0.54</td>\n",
       "      <td>0.53</td>\n",
       "    </tr>\n",
       "    <tr>\n",
       "      <th>test_recall_score</th>\n",
       "      <td>0.59</td>\n",
       "      <td>0.58</td>\n",
       "    </tr>\n",
       "    <tr>\n",
       "      <th>test_precision_score</th>\n",
       "      <td>0.49</td>\n",
       "      <td>0.49</td>\n",
       "    </tr>\n",
       "    <tr>\n",
       "      <th>test_balanced_accuracy_score</th>\n",
       "      <td>0.71</td>\n",
       "      <td>0.71</td>\n",
       "    </tr>\n",
       "    <tr>\n",
       "      <th>train_f1_score</th>\n",
       "      <td>0.58</td>\n",
       "      <td>0.55</td>\n",
       "    </tr>\n",
       "    <tr>\n",
       "      <th>train_recall_score</th>\n",
       "      <td>0.64</td>\n",
       "      <td>0.61</td>\n",
       "    </tr>\n",
       "    <tr>\n",
       "      <th>train_precision_score</th>\n",
       "      <td>0.53</td>\n",
       "      <td>0.50</td>\n",
       "    </tr>\n",
       "    <tr>\n",
       "      <th>train_balanced_accuracy_score</th>\n",
       "      <td>0.74</td>\n",
       "      <td>0.72</td>\n",
       "    </tr>\n",
       "  </tbody>\n",
       "</table>\n",
       "</div>"
      ],
      "text/plain": [
       "                               RF_tuned  HGB_tuned\n",
       "test_f1_score                      0.54       0.53\n",
       "test_recall_score                  0.59       0.58\n",
       "test_precision_score               0.49       0.49\n",
       "test_balanced_accuracy_score       0.71       0.71\n",
       "train_f1_score                     0.58       0.55\n",
       "train_recall_score                 0.64       0.61\n",
       "train_precision_score              0.53       0.50\n",
       "train_balanced_accuracy_score      0.74       0.72"
      ]
     },
     "execution_count": 279,
     "metadata": {},
     "output_type": "execute_result"
    }
   ],
   "source": [
    "results = final_models_trainer.get_results_dict()\n",
    "df_results = pd.DataFrame.from_dict(results, orient=\"index\")\n",
    "df_results.sort_values(by=\"test_f1_score\", ascending=False).T"
   ]
  },
  {
   "cell_type": "code",
   "execution_count": 280,
   "id": "21cdf4e3",
   "metadata": {},
   "outputs": [
    {
     "name": "stdout",
     "output_type": "stream",
     "text": [
      "0.29772523354620783\n",
      "18947\n"
     ]
    }
   ],
   "source": [
    "undersampling_perc = 0.33\n",
    "zero_indexes = np.where(y_train_extended == 0)[0]\n",
    "\n",
    "# Randomly select a subset of indexes based on the undersampling percentage\n",
    "undersample_indexes = np.random.choice(zero_indexes, size=int(len(zero_indexes) * undersampling_perc), replace=False)\n",
    "\n",
    "# Remove the undersampled indexes from X_train_extended and y_train_extended\n",
    "X_train_undersampled = X_train_extended.drop(undersample_indexes)\n",
    "y_train_undersampled = y_train_extended.drop(undersample_indexes)\n",
    "\n",
    "print(y_train_undersampled.sum() / len(y_train_undersampled))\n",
    "print(len(y_train_undersampled))\n",
    "\n",
    "final_models_trainer.X_train = X_train_undersampled\n",
    "final_models_trainer.y_train = y_train_undersampled"
   ]
  },
  {
   "cell_type": "code",
   "execution_count": 281,
   "id": "fc7fb3c3",
   "metadata": {},
   "outputs": [],
   "source": [
    "final_rfc = RandomForestClassifier(\n",
    "    n_estimators=50,\n",
    "    min_samples_split=20,\n",
    "    max_depth=10,\n",
    "    criterion=\"log_loss\",\n",
    "    class_weight=\"balanced\",\n",
    "    ccp_alpha=0.0,\n",
    "    random_state=seed\n",
    ")\n",
    "\n",
    "final_hgbc = HistGradientBoostingClassifier(\n",
    "    validation_fraction=0.2,\n",
    "    n_iter_no_change=10,\n",
    "    max_iter=200,\n",
    "    max_depth=12,\n",
    "    learning_rate=0.001,\n",
    "    l2_regularization=0.001,\n",
    "    early_stopping=True,\n",
    "    class_weight=\"balanced\",\n",
    "    random_state=seed\n",
    ")"
   ]
  },
  {
   "cell_type": "code",
   "execution_count": 282,
   "id": "21e187a5",
   "metadata": {},
   "outputs": [
    {
     "name": "stdout",
     "output_type": "stream",
     "text": [
      "\t#### RF_TUNED_SAMPLED RESULTS ####\n",
      "Train scores:\n",
      "              precision    recall  f1-score   support\n",
      "\n",
      "           0       0.85      0.85      0.85     13306\n",
      "           1       0.65      0.66      0.65      5641\n",
      "\n",
      "    accuracy                           0.79     18947\n",
      "   macro avg       0.75      0.75      0.75     18947\n",
      "weighted avg       0.79      0.79      0.79     18947\n",
      "\n",
      "Test scores:\n",
      "              precision    recall  f1-score   support\n",
      "\n",
      "           0       0.88      0.83      0.85      3505\n",
      "           1       0.49      0.59      0.54       995\n",
      "\n",
      "    accuracy                           0.77      4500\n",
      "   macro avg       0.68      0.71      0.69      4500\n",
      "weighted avg       0.79      0.77      0.78      4500\n",
      "\n"
     ]
    },
    {
     "data": {
      "text/plain": [
       "{'test_f1_score': 0.54,\n",
       " 'test_recall_score': 0.59,\n",
       " 'test_precision_score': 0.49,\n",
       " 'test_balanced_accuracy_score': 0.71,\n",
       " 'train_f1_score': 0.65,\n",
       " 'train_recall_score': 0.66,\n",
       " 'train_precision_score': 0.65,\n",
       " 'train_balanced_accuracy_score': 0.75}"
      ]
     },
     "execution_count": 282,
     "metadata": {},
     "output_type": "execute_result"
    }
   ],
   "source": [
    "final_models_trainer.train_classifier(classifier=final_rfc, classifier_name=\"RF_tuned_sampled\")\n",
    "\n",
    "final_models_trainer.evaluate_classifier(\n",
    "    classifier_name=\"RF_tuned_sampled\", \n",
    "    store_results=True, \n",
    "    print_classification_report=True,\n",
    "    use_val_set=False,\n",
    "    use_test_set=True,\n",
    ")"
   ]
  },
  {
   "cell_type": "code",
   "execution_count": 283,
   "id": "9e38d642",
   "metadata": {},
   "outputs": [
    {
     "name": "stdout",
     "output_type": "stream",
     "text": [
      "\t#### HGB_TUNED_SAMPLED RESULTS ####\n",
      "Train scores:\n",
      "              precision    recall  f1-score   support\n",
      "\n",
      "           0       0.84      0.81      0.82     13306\n",
      "           1       0.58      0.63      0.61      5641\n",
      "\n",
      "    accuracy                           0.76     18947\n",
      "   macro avg       0.71      0.72      0.71     18947\n",
      "weighted avg       0.76      0.76      0.76     18947\n",
      "\n",
      "Test scores:\n",
      "              precision    recall  f1-score   support\n",
      "\n",
      "           0       0.87      0.80      0.84      3505\n",
      "           1       0.46      0.60      0.52       995\n",
      "\n",
      "    accuracy                           0.76      4500\n",
      "   macro avg       0.67      0.70      0.68      4500\n",
      "weighted avg       0.78      0.76      0.77      4500\n",
      "\n"
     ]
    },
    {
     "data": {
      "text/plain": [
       "{'test_f1_score': 0.52,\n",
       " 'test_recall_score': 0.6,\n",
       " 'test_precision_score': 0.46,\n",
       " 'test_balanced_accuracy_score': 0.7,\n",
       " 'train_f1_score': 0.61,\n",
       " 'train_recall_score': 0.63,\n",
       " 'train_precision_score': 0.58,\n",
       " 'train_balanced_accuracy_score': 0.72}"
      ]
     },
     "execution_count": 283,
     "metadata": {},
     "output_type": "execute_result"
    }
   ],
   "source": [
    "final_models_trainer.train_classifier(classifier=final_hgbc, classifier_name=\"HGB_tuned_sampled\")\n",
    "\n",
    "final_models_trainer.evaluate_classifier(\n",
    "    classifier_name=\"HGB_tuned_sampled\", \n",
    "    store_results=True, \n",
    "    print_classification_report=True,\n",
    "    use_val_set=False,\n",
    "    use_test_set=True,\n",
    ")"
   ]
  },
  {
   "cell_type": "code",
   "execution_count": 284,
   "id": "71f31c86",
   "metadata": {},
   "outputs": [
    {
     "data": {
      "text/html": [
       "<div>\n",
       "<style scoped>\n",
       "    .dataframe tbody tr th:only-of-type {\n",
       "        vertical-align: middle;\n",
       "    }\n",
       "\n",
       "    .dataframe tbody tr th {\n",
       "        vertical-align: top;\n",
       "    }\n",
       "\n",
       "    .dataframe thead th {\n",
       "        text-align: right;\n",
       "    }\n",
       "</style>\n",
       "<table border=\"1\" class=\"dataframe\">\n",
       "  <thead>\n",
       "    <tr style=\"text-align: right;\">\n",
       "      <th></th>\n",
       "      <th>RF_tuned</th>\n",
       "      <th>RF_tuned_sampled</th>\n",
       "      <th>HGB_tuned</th>\n",
       "      <th>HGB_tuned_sampled</th>\n",
       "    </tr>\n",
       "  </thead>\n",
       "  <tbody>\n",
       "    <tr>\n",
       "      <th>test_f1_score</th>\n",
       "      <td>0.54</td>\n",
       "      <td>0.54</td>\n",
       "      <td>0.53</td>\n",
       "      <td>0.52</td>\n",
       "    </tr>\n",
       "    <tr>\n",
       "      <th>test_recall_score</th>\n",
       "      <td>0.59</td>\n",
       "      <td>0.59</td>\n",
       "      <td>0.58</td>\n",
       "      <td>0.60</td>\n",
       "    </tr>\n",
       "    <tr>\n",
       "      <th>test_precision_score</th>\n",
       "      <td>0.49</td>\n",
       "      <td>0.49</td>\n",
       "      <td>0.49</td>\n",
       "      <td>0.46</td>\n",
       "    </tr>\n",
       "    <tr>\n",
       "      <th>test_balanced_accuracy_score</th>\n",
       "      <td>0.71</td>\n",
       "      <td>0.71</td>\n",
       "      <td>0.71</td>\n",
       "      <td>0.70</td>\n",
       "    </tr>\n",
       "    <tr>\n",
       "      <th>train_f1_score</th>\n",
       "      <td>0.58</td>\n",
       "      <td>0.65</td>\n",
       "      <td>0.55</td>\n",
       "      <td>0.61</td>\n",
       "    </tr>\n",
       "    <tr>\n",
       "      <th>train_recall_score</th>\n",
       "      <td>0.64</td>\n",
       "      <td>0.66</td>\n",
       "      <td>0.61</td>\n",
       "      <td>0.63</td>\n",
       "    </tr>\n",
       "    <tr>\n",
       "      <th>train_precision_score</th>\n",
       "      <td>0.53</td>\n",
       "      <td>0.65</td>\n",
       "      <td>0.50</td>\n",
       "      <td>0.58</td>\n",
       "    </tr>\n",
       "    <tr>\n",
       "      <th>train_balanced_accuracy_score</th>\n",
       "      <td>0.74</td>\n",
       "      <td>0.75</td>\n",
       "      <td>0.72</td>\n",
       "      <td>0.72</td>\n",
       "    </tr>\n",
       "  </tbody>\n",
       "</table>\n",
       "</div>"
      ],
      "text/plain": [
       "                               RF_tuned  RF_tuned_sampled  HGB_tuned  \\\n",
       "test_f1_score                      0.54              0.54       0.53   \n",
       "test_recall_score                  0.59              0.59       0.58   \n",
       "test_precision_score               0.49              0.49       0.49   \n",
       "test_balanced_accuracy_score       0.71              0.71       0.71   \n",
       "train_f1_score                     0.58              0.65       0.55   \n",
       "train_recall_score                 0.64              0.66       0.61   \n",
       "train_precision_score              0.53              0.65       0.50   \n",
       "train_balanced_accuracy_score      0.74              0.75       0.72   \n",
       "\n",
       "                               HGB_tuned_sampled  \n",
       "test_f1_score                               0.52  \n",
       "test_recall_score                           0.60  \n",
       "test_precision_score                        0.46  \n",
       "test_balanced_accuracy_score                0.70  \n",
       "train_f1_score                              0.61  \n",
       "train_recall_score                          0.63  \n",
       "train_precision_score                       0.58  \n",
       "train_balanced_accuracy_score               0.72  "
      ]
     },
     "execution_count": 284,
     "metadata": {},
     "output_type": "execute_result"
    }
   ],
   "source": [
    "results = final_models_trainer.get_results_dict()\n",
    "df_results = pd.DataFrame.from_dict(results, orient=\"index\")\n",
    "df_results.sort_values(by=\"test_f1_score\", ascending=False).T"
   ]
  },
  {
   "cell_type": "markdown",
   "id": "7b9ae893",
   "metadata": {},
   "source": [
    "ROC, precision-recall and calibration curves:"
   ]
  },
  {
   "cell_type": "code",
   "execution_count": 285,
   "id": "6b1e2821",
   "metadata": {},
   "outputs": [
    {
     "data": {
      "image/png": "[encoded data removed]",
      "text/plain": [
       "<Figure size 640x480 with 1 Axes>"
      ]
     },
     "metadata": {},
     "output_type": "display_data"
    }
   ],
   "source": [
    "models = [\n",
    "    (\"RF_tuned\", final_models_trainer.models[\"RF_tuned\"]),\n",
    "    (\"HGB_tuned\", final_models_trainer.models[\"HGB_tuned\"]),\n",
    "    (\"RF_tuned_sampled\", final_models_trainer.models[\"RF_tuned_sampled\"]),\n",
    "    (\"HGB_tuned_sampled\", final_models_trainer.models[\"HGB_tuned_sampled\"]),   \n",
    "]\n",
    "\n",
    "X_train, y_train = final_models_trainer.X_train, final_models_trainer.y_train\n",
    "X_test, y_test = final_models_trainer.X_test, final_models_trainer.y_test\n",
    "\n",
    "fig, ax = plt.subplots()\n",
    "model_displays = {}\n",
    "for name, pipeline in models:\n",
    "    model_displays[name] = RocCurveDisplay.from_estimator(\n",
    "        pipeline, X_test, y_test, ax=ax, name=name\n",
    "    )\n",
    "_ = ax.set_title(\"ROC curves - Test Set\")"
   ]
  },
  {
   "cell_type": "code",
   "execution_count": 286,
   "id": "1ac75e6a",
   "metadata": {},
   "outputs": [
    {
     "data": {
      "image/png": "[encoded data removed]",
      "text/plain": [
       "<Figure size 640x480 with 1 Axes>"
      ]
     },
     "metadata": {},
     "output_type": "display_data"
    }
   ],
   "source": [
    "fig, ax = plt.subplots()\n",
    "model_displays = {}\n",
    "for name, pipeline in models:\n",
    "    model_displays[name] = PrecisionRecallDisplay.from_estimator(\n",
    "        pipeline, X_test, y_test, ax=ax, name=name\n",
    "    )\n",
    "_ = ax.set_title(\"Precision-Recall curves - Test Set\")"
   ]
  },
  {
   "cell_type": "code",
   "execution_count": 287,
   "id": "30589539",
   "metadata": {},
   "outputs": [
    {
     "data": {
      "image/png": "[encoded data removed]",
      "text/plain": [
       "<Figure size 640x480 with 1 Axes>"
      ]
     },
     "metadata": {},
     "output_type": "display_data"
    }
   ],
   "source": [
    "# Calibration curves:\n",
    "fig, ax = plt.subplots()\n",
    "model_displays = {}\n",
    "for name, pipeline in models:\n",
    "    model_displays[name] = CalibrationDisplay.from_estimator(\n",
    "        pipeline, X_test, y_test, ax=ax, name=name\n",
    "    )\n",
    "_ = ax.set_title(\"Calibration curves - Test Set\")"
   ]
  },
  {
   "cell_type": "markdown",
   "id": "bc4f8093",
   "metadata": {},
   "source": [
    "Optimal threshold tuning:"
   ]
  },
  {
   "cell_type": "code",
   "execution_count": 288,
   "id": "20c694b9",
   "metadata": {},
   "outputs": [
    {
     "name": "stdout",
     "output_type": "stream",
     "text": [
      "\n",
      "Searching best threshold for RF_tuned\n",
      "Threshold=0.530, F-Score=0.54\n",
      "\n",
      "Searching best threshold for HGB_tuned\n",
      "Threshold=0.500, F-Score=0.53\n",
      "\n",
      "Searching best threshold for RF_tuned_sampled\n",
      "Threshold=0.530, F-Score=0.54\n",
      "\n",
      "Searching best threshold for HGB_tuned_sampled\n",
      "Threshold=0.520, F-Score=0.53\n"
     ]
    }
   ],
   "source": [
    "for m in models:\n",
    "    print(f\"\\nSearching best threshold for {m[0]}\")\n",
    "    model = m[1]\n",
    "    preds = model.predict_proba(X_test)\n",
    "    # keep probabilities for the positive outcome only\n",
    "    probs = preds[:, 1]\n",
    "    \n",
    "    # define thresholds\n",
    "    thresholds = np.arange(0, 1, 0.01)\n",
    "    \n",
    "    # evaluate each threshold\n",
    "    scores = [f1_score(y_test, to_labels(probs, t)) for t in thresholds]\n",
    "    \n",
    "    # get best threshold\n",
    "    ix = np.argmax(scores)\n",
    "    print('Threshold=%.3f, F-Score=%.2f' % (thresholds[ix], scores[ix]))"
   ]
  },
  {
   "cell_type": "markdown",
   "id": "81197b47",
   "metadata": {},
   "source": [
    "### Results interpretability"
   ]
  },
  {
   "cell_type": "code",
   "execution_count": 289,
   "id": "e0d2b5c3",
   "metadata": {},
   "outputs": [],
   "source": [
    "X_train, y_train = final_models_trainer.X_train, models_trainer.y_train\n",
    "X_test, y_test = final_models_trainer.X_test, models_trainer.y_test"
   ]
  },
  {
   "cell_type": "code",
   "execution_count": 290,
   "id": "94217590",
   "metadata": {},
   "outputs": [
    {
     "data": {
      "image/png": "[encoded data removed]",
      "text/plain": [
       "<Figure size 640x480 with 2 Axes>"
      ]
     },
     "metadata": {},
     "output_type": "display_data"
    }
   ],
   "source": [
    "from sklearn.metrics import confusion_matrix, ConfusionMatrixDisplay\n",
    "\n",
    "# Confusion matrix\n",
    "best_model = final_models_trainer.models.get(\"RF_tuned_sampled\")\n",
    "\n",
    "cm = confusion_matrix(y_test.values, best_model.predict(X_test))\n",
    "\n",
    "disp = ConfusionMatrixDisplay(\n",
    "    confusion_matrix=cm,\n",
    "    display_labels=['Non Defaulter', 'Defaulter']\n",
    ")\n",
    "\n",
    "disp.plot()\n",
    "\n",
    "plt.show()"
   ]
  },
  {
   "cell_type": "code",
   "execution_count": 291,
   "id": "8253b62d",
   "metadata": {},
   "outputs": [
    {
     "name": "stdout",
     "output_type": "stream",
     "text": [
      "True negatives: 2892\n",
      "False positives: 613\n",
      "False negatives: 406\n",
      "True positives: 589\n",
      "Number of labels predicted as 1 vs 0: 1202 vs. 3298\n"
     ]
    }
   ],
   "source": [
    "tn, fp, fn, tp = cm.ravel()\n",
    "\n",
    "print(f\"True negatives: {tn}\")\n",
    "print(f\"False positives: {fp}\")\n",
    "print(f\"False negatives: {fn}\")\n",
    "print(f\"True positives: {tp}\")\n",
    "\n",
    "print(f\"Number of labels predicted as 1 vs 0: {tp + fp} vs. {tn + fn}\")"
   ]
  },
  {
   "cell_type": "code",
   "execution_count": 292,
   "id": "6047e962",
   "metadata": {},
   "outputs": [
    {
     "data": {
      "image/png": "[encoded data removed]",
      "text/plain": [
       "<Figure size 640x480 with 1 Axes>"
      ]
     },
     "metadata": {},
     "output_type": "display_data"
    }
   ],
   "source": [
    "# Feature importance:\n",
    "feat_imp = pd.DataFrame(\n",
    "    zip(best_model.feature_names_in_, best_model.feature_importances_),\n",
    "    columns=[\"feature\", \"importance\"]\n",
    ").sort_values(by=\"importance\", ascending=False)\n",
    "\n",
    "feat_imp.plot.bar(x='feature', y='importance', rot=90)\n",
    "plt.show()"
   ]
  },
  {
   "cell_type": "code",
   "execution_count": 297,
   "id": "87f1cb7a",
   "metadata": {},
   "outputs": [
    {
     "data": {
      "text/plain": [
       "'1.3.0'"
      ]
     },
     "execution_count": 297,
     "metadata": {},
     "output_type": "execute_result"
    }
   ],
   "source": [
    "import sklearn\n",
    "\n",
    "sklearn.__version__"
   ]
  },
  {
   "cell_type": "code",
   "execution_count": 296,
   "id": "1f50fd72",
   "metadata": {},
   "outputs": [
    {
     "ename": "ImportError",
     "evalue": "cannot import name '_eigh' from 'sklearn.utils.fixes' (C:\\Users\\mafal\\anaconda3\\lib\\site-packages\\sklearn\\utils\\fixes.py)",
     "output_type": "error",
     "traceback": [
      "\u001b[1;31m---------------------------------------------------------------------------\u001b[0m",
      "\u001b[1;31mImportError\u001b[0m                               Traceback (most recent call last)",
      "\u001b[1;32m~\\AppData\\Local\\Temp\\ipykernel_17900\\3129469108.py\u001b[0m in \u001b[0;36m<module>\u001b[1;34m\u001b[0m\n\u001b[0;32m      2\u001b[0m \u001b[1;31m# clf = SVC(random_state=seed)\u001b[0m\u001b[1;33m\u001b[0m\u001b[1;33m\u001b[0m\u001b[0m\n\u001b[0;32m      3\u001b[0m \u001b[1;31m# clf.fit(X_train, y_train)\u001b[0m\u001b[1;33m\u001b[0m\u001b[1;33m\u001b[0m\u001b[0m\n\u001b[1;32m----> 4\u001b[1;33m \u001b[1;32mimport\u001b[0m \u001b[0mshap\u001b[0m\u001b[1;33m\u001b[0m\u001b[1;33m\u001b[0m\u001b[0m\n\u001b[0m\u001b[0;32m      5\u001b[0m \u001b[1;33m\u001b[0m\u001b[0m\n\u001b[0;32m      6\u001b[0m \u001b[1;31m#shap.initjs()\u001b[0m\u001b[1;33m\u001b[0m\u001b[1;33m\u001b[0m\u001b[0m\n",
      "\u001b[1;32m~\\anaconda3\\lib\\site-packages\\shap\\__init__.py\u001b[0m in \u001b[0;36m<module>\u001b[1;34m\u001b[0m\n\u001b[0;32m     14\u001b[0m \u001b[1;31m# explainers\u001b[0m\u001b[1;33m\u001b[0m\u001b[1;33m\u001b[0m\u001b[0m\n\u001b[0;32m     15\u001b[0m \u001b[1;32mfrom\u001b[0m \u001b[1;33m.\u001b[0m\u001b[0mexplainers\u001b[0m\u001b[1;33m.\u001b[0m\u001b[0m_explainer\u001b[0m \u001b[1;32mimport\u001b[0m \u001b[0mExplainer\u001b[0m\u001b[1;33m\u001b[0m\u001b[1;33m\u001b[0m\u001b[0m\n\u001b[1;32m---> 16\u001b[1;33m \u001b[1;32mfrom\u001b[0m \u001b[1;33m.\u001b[0m\u001b[0mexplainers\u001b[0m\u001b[1;33m.\u001b[0m\u001b[0m_kernel\u001b[0m \u001b[1;32mimport\u001b[0m \u001b[0mKernel\u001b[0m \u001b[1;32mas\u001b[0m \u001b[0mKernelExplainer\u001b[0m\u001b[1;33m\u001b[0m\u001b[1;33m\u001b[0m\u001b[0m\n\u001b[0m\u001b[0;32m     17\u001b[0m \u001b[1;32mfrom\u001b[0m \u001b[1;33m.\u001b[0m\u001b[0mexplainers\u001b[0m\u001b[1;33m.\u001b[0m\u001b[0m_sampling\u001b[0m \u001b[1;32mimport\u001b[0m \u001b[0mSampling\u001b[0m \u001b[1;32mas\u001b[0m \u001b[0mSamplingExplainer\u001b[0m\u001b[1;33m\u001b[0m\u001b[1;33m\u001b[0m\u001b[0m\n\u001b[0;32m     18\u001b[0m \u001b[1;32mfrom\u001b[0m \u001b[1;33m.\u001b[0m\u001b[0mexplainers\u001b[0m\u001b[1;33m.\u001b[0m\u001b[0m_tree\u001b[0m \u001b[1;32mimport\u001b[0m \u001b[0mTree\u001b[0m \u001b[1;32mas\u001b[0m \u001b[0mTreeExplainer\u001b[0m\u001b[1;33m\u001b[0m\u001b[1;33m\u001b[0m\u001b[0m\n",
      "\u001b[1;32m~\\anaconda3\\lib\\site-packages\\shap\\explainers\\__init__.py\u001b[0m in \u001b[0;36m<module>\u001b[1;34m\u001b[0m\n\u001b[0;32m      1\u001b[0m \u001b[1;32mfrom\u001b[0m \u001b[1;33m.\u001b[0m\u001b[0m_permutation\u001b[0m \u001b[1;32mimport\u001b[0m \u001b[0mPermutation\u001b[0m\u001b[1;33m\u001b[0m\u001b[1;33m\u001b[0m\u001b[0m\n\u001b[0;32m      2\u001b[0m \u001b[1;32mfrom\u001b[0m \u001b[1;33m.\u001b[0m\u001b[0m_partition\u001b[0m \u001b[1;32mimport\u001b[0m \u001b[0mPartition\u001b[0m\u001b[1;33m\u001b[0m\u001b[1;33m\u001b[0m\u001b[0m\n\u001b[1;32m----> 3\u001b[1;33m \u001b[1;32mfrom\u001b[0m \u001b[1;33m.\u001b[0m\u001b[0m_tree\u001b[0m \u001b[1;32mimport\u001b[0m \u001b[0mTree\u001b[0m\u001b[1;33m\u001b[0m\u001b[1;33m\u001b[0m\u001b[0m\n\u001b[0m\u001b[0;32m      4\u001b[0m \u001b[1;32mfrom\u001b[0m \u001b[1;33m.\u001b[0m\u001b[0m_gpu_tree\u001b[0m \u001b[1;32mimport\u001b[0m \u001b[0mGPUTree\u001b[0m\u001b[1;33m\u001b[0m\u001b[1;33m\u001b[0m\u001b[0m\n\u001b[0;32m      5\u001b[0m \u001b[1;32mfrom\u001b[0m \u001b[1;33m.\u001b[0m\u001b[0m_exact\u001b[0m \u001b[1;32mimport\u001b[0m \u001b[0mExact\u001b[0m\u001b[1;33m\u001b[0m\u001b[1;33m\u001b[0m\u001b[0m\n",
      "\u001b[1;32m~\\anaconda3\\lib\\site-packages\\shap\\explainers\\_tree.py\u001b[0m in \u001b[0;36m<module>\u001b[1;34m\u001b[0m\n\u001b[0;32m     11\u001b[0m \u001b[1;32mfrom\u001b[0m \u001b[1;33m.\u001b[0m\u001b[0m_explainer\u001b[0m \u001b[1;32mimport\u001b[0m \u001b[0mExplainer\u001b[0m\u001b[1;33m\u001b[0m\u001b[1;33m\u001b[0m\u001b[0m\n\u001b[0;32m     12\u001b[0m \u001b[1;32mfrom\u001b[0m \u001b[1;33m.\u001b[0m\u001b[1;33m.\u001b[0m\u001b[0mutils\u001b[0m \u001b[1;32mimport\u001b[0m \u001b[0massert_import\u001b[0m\u001b[1;33m,\u001b[0m \u001b[0mrecord_import_error\u001b[0m\u001b[1;33m,\u001b[0m \u001b[0msafe_isinstance\u001b[0m\u001b[1;33m\u001b[0m\u001b[1;33m\u001b[0m\u001b[0m\n\u001b[1;32m---> 13\u001b[1;33m \u001b[1;32mfrom\u001b[0m \u001b[1;33m.\u001b[0m\u001b[1;33m.\u001b[0m\u001b[0mutils\u001b[0m\u001b[1;33m.\u001b[0m\u001b[0m_legacy\u001b[0m \u001b[1;32mimport\u001b[0m \u001b[0mDenseData\u001b[0m\u001b[1;33m\u001b[0m\u001b[1;33m\u001b[0m\u001b[0m\n\u001b[0m\u001b[0;32m     14\u001b[0m \u001b[1;32mfrom\u001b[0m \u001b[1;33m.\u001b[0m\u001b[1;33m.\u001b[0m\u001b[0mutils\u001b[0m\u001b[1;33m.\u001b[0m\u001b[0m_exceptions\u001b[0m \u001b[1;32mimport\u001b[0m \u001b[0mInvalidMaskerError\u001b[0m\u001b[1;33m,\u001b[0m \u001b[0mExplainerError\u001b[0m\u001b[1;33m,\u001b[0m \u001b[0mInvalidFeaturePerturbationError\u001b[0m\u001b[1;33m,\u001b[0m \u001b[0mInvalidModelError\u001b[0m\u001b[1;33m\u001b[0m\u001b[1;33m\u001b[0m\u001b[0m\n\u001b[0;32m     15\u001b[0m \u001b[1;32mfrom\u001b[0m \u001b[1;33m.\u001b[0m\u001b[1;33m.\u001b[0m\u001b[0m_explanation\u001b[0m \u001b[1;32mimport\u001b[0m \u001b[0mExplanation\u001b[0m\u001b[1;33m\u001b[0m\u001b[1;33m\u001b[0m\u001b[0m\n",
      "\u001b[1;32m~\\anaconda3\\lib\\site-packages\\shap\\utils\\_legacy.py\u001b[0m in \u001b[0;36m<module>\u001b[1;34m\u001b[0m\n\u001b[0;32m      2\u001b[0m \u001b[1;32mimport\u001b[0m \u001b[0mpandas\u001b[0m \u001b[1;32mas\u001b[0m \u001b[0mpd\u001b[0m\u001b[1;33m\u001b[0m\u001b[1;33m\u001b[0m\u001b[0m\n\u001b[0;32m      3\u001b[0m \u001b[1;32mimport\u001b[0m \u001b[0mscipy\u001b[0m \u001b[1;32mas\u001b[0m \u001b[0msp\u001b[0m\u001b[1;33m\u001b[0m\u001b[1;33m\u001b[0m\u001b[0m\n\u001b[1;32m----> 4\u001b[1;33m \u001b[1;32mfrom\u001b[0m \u001b[0msklearn\u001b[0m\u001b[1;33m.\u001b[0m\u001b[0mcluster\u001b[0m \u001b[1;32mimport\u001b[0m \u001b[0mKMeans\u001b[0m\u001b[1;33m\u001b[0m\u001b[1;33m\u001b[0m\u001b[0m\n\u001b[0m\u001b[0;32m      5\u001b[0m \u001b[1;32mfrom\u001b[0m \u001b[0msklearn\u001b[0m\u001b[1;33m.\u001b[0m\u001b[0mimpute\u001b[0m \u001b[1;32mimport\u001b[0m \u001b[0mSimpleImputer\u001b[0m\u001b[1;33m\u001b[0m\u001b[1;33m\u001b[0m\u001b[0m\n\u001b[0;32m      6\u001b[0m \u001b[1;32mfrom\u001b[0m \u001b[0mscipy\u001b[0m\u001b[1;33m.\u001b[0m\u001b[0msparse\u001b[0m \u001b[1;32mimport\u001b[0m \u001b[0missparse\u001b[0m\u001b[1;33m\u001b[0m\u001b[1;33m\u001b[0m\u001b[0m\n",
      "\u001b[1;32m~\\anaconda3\\lib\\site-packages\\sklearn\\cluster\\__init__.py\u001b[0m in \u001b[0;36m<module>\u001b[1;34m\u001b[0m\n\u001b[0;32m      4\u001b[0m \"\"\"\n\u001b[0;32m      5\u001b[0m \u001b[1;33m\u001b[0m\u001b[0m\n\u001b[1;32m----> 6\u001b[1;33m \u001b[1;32mfrom\u001b[0m \u001b[1;33m.\u001b[0m\u001b[0m_spectral\u001b[0m \u001b[1;32mimport\u001b[0m \u001b[0mspectral_clustering\u001b[0m\u001b[1;33m,\u001b[0m \u001b[0mSpectralClustering\u001b[0m\u001b[1;33m\u001b[0m\u001b[1;33m\u001b[0m\u001b[0m\n\u001b[0m\u001b[0;32m      7\u001b[0m \u001b[1;32mfrom\u001b[0m \u001b[1;33m.\u001b[0m\u001b[0m_mean_shift\u001b[0m \u001b[1;32mimport\u001b[0m \u001b[0mmean_shift\u001b[0m\u001b[1;33m,\u001b[0m \u001b[0mMeanShift\u001b[0m\u001b[1;33m,\u001b[0m \u001b[0mestimate_bandwidth\u001b[0m\u001b[1;33m,\u001b[0m \u001b[0mget_bin_seeds\u001b[0m\u001b[1;33m\u001b[0m\u001b[1;33m\u001b[0m\u001b[0m\n\u001b[0;32m      8\u001b[0m \u001b[1;32mfrom\u001b[0m \u001b[1;33m.\u001b[0m\u001b[0m_affinity_propagation\u001b[0m \u001b[1;32mimport\u001b[0m \u001b[0maffinity_propagation\u001b[0m\u001b[1;33m,\u001b[0m \u001b[0mAffinityPropagation\u001b[0m\u001b[1;33m\u001b[0m\u001b[1;33m\u001b[0m\u001b[0m\n",
      "\u001b[1;32m~\\anaconda3\\lib\\site-packages\\sklearn\\cluster\\_spectral.py\u001b[0m in \u001b[0;36m<module>\u001b[1;34m\u001b[0m\n\u001b[0;32m     20\u001b[0m \u001b[1;32mfrom\u001b[0m \u001b[1;33m.\u001b[0m\u001b[1;33m.\u001b[0m\u001b[0mmetrics\u001b[0m\u001b[1;33m.\u001b[0m\u001b[0mpairwise\u001b[0m \u001b[1;32mimport\u001b[0m \u001b[0mpairwise_kernels\u001b[0m\u001b[1;33m,\u001b[0m \u001b[0mKERNEL_PARAMS\u001b[0m\u001b[1;33m\u001b[0m\u001b[1;33m\u001b[0m\u001b[0m\n\u001b[0;32m     21\u001b[0m \u001b[1;32mfrom\u001b[0m \u001b[1;33m.\u001b[0m\u001b[1;33m.\u001b[0m\u001b[0mneighbors\u001b[0m \u001b[1;32mimport\u001b[0m \u001b[0mkneighbors_graph\u001b[0m\u001b[1;33m,\u001b[0m \u001b[0mNearestNeighbors\u001b[0m\u001b[1;33m\u001b[0m\u001b[1;33m\u001b[0m\u001b[0m\n\u001b[1;32m---> 22\u001b[1;33m \u001b[1;32mfrom\u001b[0m \u001b[1;33m.\u001b[0m\u001b[1;33m.\u001b[0m\u001b[0mmanifold\u001b[0m \u001b[1;32mimport\u001b[0m \u001b[0mspectral_embedding\u001b[0m\u001b[1;33m\u001b[0m\u001b[1;33m\u001b[0m\u001b[0m\n\u001b[0m\u001b[0;32m     23\u001b[0m \u001b[1;32mfrom\u001b[0m \u001b[1;33m.\u001b[0m\u001b[0m_kmeans\u001b[0m \u001b[1;32mimport\u001b[0m \u001b[0mk_means\u001b[0m\u001b[1;33m\u001b[0m\u001b[1;33m\u001b[0m\u001b[0m\n\u001b[0;32m     24\u001b[0m \u001b[1;33m\u001b[0m\u001b[0m\n",
      "\u001b[1;32m~\\anaconda3\\lib\\site-packages\\sklearn\\manifold\\__init__.py\u001b[0m in \u001b[0;36m<module>\u001b[1;34m\u001b[0m\n\u001b[0;32m      3\u001b[0m \"\"\"\n\u001b[0;32m      4\u001b[0m \u001b[1;33m\u001b[0m\u001b[0m\n\u001b[1;32m----> 5\u001b[1;33m \u001b[1;32mfrom\u001b[0m \u001b[1;33m.\u001b[0m\u001b[0m_locally_linear\u001b[0m \u001b[1;32mimport\u001b[0m \u001b[0mlocally_linear_embedding\u001b[0m\u001b[1;33m,\u001b[0m \u001b[0mLocallyLinearEmbedding\u001b[0m\u001b[1;33m\u001b[0m\u001b[1;33m\u001b[0m\u001b[0m\n\u001b[0m\u001b[0;32m      6\u001b[0m \u001b[1;32mfrom\u001b[0m \u001b[1;33m.\u001b[0m\u001b[0m_isomap\u001b[0m \u001b[1;32mimport\u001b[0m \u001b[0mIsomap\u001b[0m\u001b[1;33m\u001b[0m\u001b[1;33m\u001b[0m\u001b[0m\n\u001b[0;32m      7\u001b[0m \u001b[1;32mfrom\u001b[0m \u001b[1;33m.\u001b[0m\u001b[0m_mds\u001b[0m \u001b[1;32mimport\u001b[0m \u001b[0mMDS\u001b[0m\u001b[1;33m,\u001b[0m \u001b[0msmacof\u001b[0m\u001b[1;33m\u001b[0m\u001b[1;33m\u001b[0m\u001b[0m\n",
      "\u001b[1;32m~\\anaconda3\\lib\\site-packages\\sklearn\\manifold\\_locally_linear.py\u001b[0m in \u001b[0;36m<module>\u001b[1;34m\u001b[0m\n\u001b[0;32m     21\u001b[0m \u001b[1;32mfrom\u001b[0m \u001b[1;33m.\u001b[0m\u001b[1;33m.\u001b[0m\u001b[0mutils\u001b[0m\u001b[1;33m.\u001b[0m\u001b[0m_arpack\u001b[0m \u001b[1;32mimport\u001b[0m \u001b[0m_init_arpack_v0\u001b[0m\u001b[1;33m\u001b[0m\u001b[1;33m\u001b[0m\u001b[0m\n\u001b[0;32m     22\u001b[0m \u001b[1;32mfrom\u001b[0m \u001b[1;33m.\u001b[0m\u001b[1;33m.\u001b[0m\u001b[0mutils\u001b[0m\u001b[1;33m.\u001b[0m\u001b[0m_param_validation\u001b[0m \u001b[1;32mimport\u001b[0m \u001b[0mInterval\u001b[0m\u001b[1;33m,\u001b[0m \u001b[0mStrOptions\u001b[0m\u001b[1;33m\u001b[0m\u001b[1;33m\u001b[0m\u001b[0m\n\u001b[1;32m---> 23\u001b[1;33m \u001b[1;32mfrom\u001b[0m \u001b[1;33m.\u001b[0m\u001b[1;33m.\u001b[0m\u001b[0mutils\u001b[0m\u001b[1;33m.\u001b[0m\u001b[0mfixes\u001b[0m \u001b[1;32mimport\u001b[0m \u001b[0m_eigh\u001b[0m\u001b[1;33m\u001b[0m\u001b[1;33m\u001b[0m\u001b[0m\n\u001b[0m\u001b[0;32m     24\u001b[0m \u001b[1;32mfrom\u001b[0m \u001b[1;33m.\u001b[0m\u001b[1;33m.\u001b[0m\u001b[0mutils\u001b[0m\u001b[1;33m.\u001b[0m\u001b[0mextmath\u001b[0m \u001b[1;32mimport\u001b[0m \u001b[0mstable_cumsum\u001b[0m\u001b[1;33m\u001b[0m\u001b[1;33m\u001b[0m\u001b[0m\n\u001b[0;32m     25\u001b[0m \u001b[1;32mfrom\u001b[0m \u001b[1;33m.\u001b[0m\u001b[1;33m.\u001b[0m\u001b[0mutils\u001b[0m\u001b[1;33m.\u001b[0m\u001b[0mvalidation\u001b[0m \u001b[1;32mimport\u001b[0m \u001b[0mcheck_is_fitted\u001b[0m\u001b[1;33m\u001b[0m\u001b[1;33m\u001b[0m\u001b[0m\n",
      "\u001b[1;31mImportError\u001b[0m: cannot import name '_eigh' from 'sklearn.utils.fixes' (C:\\Users\\mafal\\anaconda3\\lib\\site-packages\\sklearn\\utils\\fixes.py)"
     ]
    }
   ],
   "source": [
    "# SHAP values:\n",
    "# clf = SVC(random_state=seed)\n",
    "# clf.fit(X_train, y_train)\n",
    "import shap\n",
    "\n",
    "#shap.initjs()\n",
    "\n",
    "train_data = pd.concat([X_train, y_train], axis=1)\n",
    "test_data = pd.concat([X_test, y_test], axis=1)\n",
    "\n",
    "explainer = shap.KernelExplainer(best_model.predict_proba, X_train)\n",
    "# explainer = shap.TreeExplainer(best_model)\n",
    "shap_values = explainer(test_data)\n",
    "\n",
    "exp = shap.Explanation(\n",
    "    shap_values.values[:,:,1], \n",
    "    shap_values.base_values[:,1], \n",
    "    data=test_data.values, \n",
    "    feature_names=test_data.columns\n",
    ")\n",
    "\n",
    "shap.summary_plot(\n",
    "    shap_values=exp,\n",
    "    features=test_data\n",
    ")"
   ]
  },
  {
   "cell_type": "markdown",
   "id": "dca9074c",
   "metadata": {},
   "source": [
    "Unfortunately, due to time constraints, there was no time to adapt the SHAP values to have the interpretation of the SVM model. As an alternative, shap values were calculated for a simple decision tree model. "
   ]
  },
  {
   "cell_type": "markdown",
   "id": "582090c0",
   "metadata": {},
   "source": [
    "### Conclusions and next steps"
   ]
  },
  {
   "cell_type": "markdown",
   "id": "664eeead",
   "metadata": {},
   "source": [
    "The results of our analysis showed that the SVM model achieved the best performance with a recall score of 74%. \n",
    "\n",
    "\n",
    "The most relevant features to predict the probability of a client defaulting are past payment statuses (in particular the most recent months), paid amount to bill ratios, payment change rates, payment delays, credit limits, the total amount paid by the client during the last 6 months and information regarding client's age and marital status.\n",
    "\n",
    "\n",
    "Further research is needed to refine the model and improve its performance. \n",
    "\n"
   ]
  },
  {
   "cell_type": "markdown",
   "id": "a9e7219c",
   "metadata": {},
   "source": [
    "**Next Steps and future work might include:**\n",
    "- EDA:\n",
    "    - Invest more in multivariate analysis\n",
    "    - Deal with repetitive code\n",
    "    - Improve feature engineering\n",
    "    - Treat outliers (IQR)\n",
    "- Dataset imbalance:\n",
    "    - Try to get more data from the source\n",
    "    - Synthetic data\n",
    "- Feature selection:\n",
    "    - Explore other methods:\n",
    "    - Recursive Feature Elimination\n",
    "    - Correlation-based feature selection \n",
    "    - Using the feature importance of some tree-based classifiers to rank the features\n",
    "    - \"Manual selection\"\n",
    "    - Genetic algorithms\n",
    "- Models:\n",
    "    - Hyperparameter tuning\n",
    "    - Regularization techniques (if needed)\n",
    "    - Deep learning neural networks\n",
    "- Interpretability:\n",
    "    - Adapt SHAP values to SVM\n",
    "- Code:\n",
    "    - Finish documentation and write a proper readme file, including instructions on how to run the project\n",
    "    - Add proper logging\n",
    "    - Refactor DataProcessor and ModelTrainer classes\n",
    "    - Create a report manager\n",
    "    - Integration with MLFlow (or similar tool) to facilitate experiment tracking\n",
    "    - Production code:\n",
    "        - OOP\n",
    "        - Unit, integration and acceptance tests\n",
    "        - Apply lint packages (e.g., autopep8, pylint)\n",
    "        - Dependencies management (e.g., Poetry)"
   ]
  }
 ],
 "metadata": {
  "kernelspec": {
   "display_name": "Python 3",
   "language": "python",
   "name": "python3"
  },
  "language_info": {
   "codemirror_mode": {
    "name": "ipython",
    "version": 3
   },
   "file_extension": ".py",
   "mimetype": "text/x-python",
   "name": "python",
   "nbconvert_exporter": "python",
   "pygments_lexer": "ipython3",
   "version": "3.9.13"
  }
 },
 "nbformat": 4,
 "nbformat_minor": 5
}
